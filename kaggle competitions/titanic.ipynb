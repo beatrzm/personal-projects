{
 "cells": [
  {
   "cell_type": "code",
   "execution_count": 200,
   "metadata": {},
   "outputs": [],
   "source": [
    "import pandas as pd\n",
    "import numpy as np\n",
    "import matplotlib.pyplot as plt\n",
    "import os\n",
    "from sklearn.ensemble import RandomForestClassifier\n",
    "from sklearn.model_selection import cross_val_score\n",
    "from sklearn.model_selection import GridSearchCV\n",
    "from sklearn.model_selection import RandomizedSearchCV"
   ]
  },
  {
   "cell_type": "code",
   "execution_count": 201,
   "metadata": {},
   "outputs": [
    {
     "data": {
      "text/html": [
       "<div>\n",
       "<style scoped>\n",
       "    .dataframe tbody tr th:only-of-type {\n",
       "        vertical-align: middle;\n",
       "    }\n",
       "\n",
       "    .dataframe tbody tr th {\n",
       "        vertical-align: top;\n",
       "    }\n",
       "\n",
       "    .dataframe thead th {\n",
       "        text-align: right;\n",
       "    }\n",
       "</style>\n",
       "<table border=\"1\" class=\"dataframe\">\n",
       "  <thead>\n",
       "    <tr style=\"text-align: right;\">\n",
       "      <th></th>\n",
       "      <th>PassengerId</th>\n",
       "      <th>Survived</th>\n",
       "      <th>Pclass</th>\n",
       "      <th>Name</th>\n",
       "      <th>Sex</th>\n",
       "      <th>Age</th>\n",
       "      <th>SibSp</th>\n",
       "      <th>Parch</th>\n",
       "      <th>Ticket</th>\n",
       "      <th>Fare</th>\n",
       "      <th>Cabin</th>\n",
       "      <th>Embarked</th>\n",
       "    </tr>\n",
       "  </thead>\n",
       "  <tbody>\n",
       "    <tr>\n",
       "      <th>0</th>\n",
       "      <td>1</td>\n",
       "      <td>0</td>\n",
       "      <td>3</td>\n",
       "      <td>Braund, Mr. Owen Harris</td>\n",
       "      <td>male</td>\n",
       "      <td>22.0</td>\n",
       "      <td>1</td>\n",
       "      <td>0</td>\n",
       "      <td>A/5 21171</td>\n",
       "      <td>7.2500</td>\n",
       "      <td>NaN</td>\n",
       "      <td>S</td>\n",
       "    </tr>\n",
       "    <tr>\n",
       "      <th>1</th>\n",
       "      <td>2</td>\n",
       "      <td>1</td>\n",
       "      <td>1</td>\n",
       "      <td>Cumings, Mrs. John Bradley (Florence Briggs Th...</td>\n",
       "      <td>female</td>\n",
       "      <td>38.0</td>\n",
       "      <td>1</td>\n",
       "      <td>0</td>\n",
       "      <td>PC 17599</td>\n",
       "      <td>71.2833</td>\n",
       "      <td>C85</td>\n",
       "      <td>C</td>\n",
       "    </tr>\n",
       "    <tr>\n",
       "      <th>2</th>\n",
       "      <td>3</td>\n",
       "      <td>1</td>\n",
       "      <td>3</td>\n",
       "      <td>Heikkinen, Miss. Laina</td>\n",
       "      <td>female</td>\n",
       "      <td>26.0</td>\n",
       "      <td>0</td>\n",
       "      <td>0</td>\n",
       "      <td>STON/O2. 3101282</td>\n",
       "      <td>7.9250</td>\n",
       "      <td>NaN</td>\n",
       "      <td>S</td>\n",
       "    </tr>\n",
       "    <tr>\n",
       "      <th>3</th>\n",
       "      <td>4</td>\n",
       "      <td>1</td>\n",
       "      <td>1</td>\n",
       "      <td>Futrelle, Mrs. Jacques Heath (Lily May Peel)</td>\n",
       "      <td>female</td>\n",
       "      <td>35.0</td>\n",
       "      <td>1</td>\n",
       "      <td>0</td>\n",
       "      <td>113803</td>\n",
       "      <td>53.1000</td>\n",
       "      <td>C123</td>\n",
       "      <td>S</td>\n",
       "    </tr>\n",
       "    <tr>\n",
       "      <th>4</th>\n",
       "      <td>5</td>\n",
       "      <td>0</td>\n",
       "      <td>3</td>\n",
       "      <td>Allen, Mr. William Henry</td>\n",
       "      <td>male</td>\n",
       "      <td>35.0</td>\n",
       "      <td>0</td>\n",
       "      <td>0</td>\n",
       "      <td>373450</td>\n",
       "      <td>8.0500</td>\n",
       "      <td>NaN</td>\n",
       "      <td>S</td>\n",
       "    </tr>\n",
       "  </tbody>\n",
       "</table>\n",
       "</div>"
      ],
      "text/plain": [
       "   PassengerId  Survived  Pclass  \\\n",
       "0            1         0       3   \n",
       "1            2         1       1   \n",
       "2            3         1       3   \n",
       "3            4         1       1   \n",
       "4            5         0       3   \n",
       "\n",
       "                                                Name     Sex   Age  SibSp  \\\n",
       "0                            Braund, Mr. Owen Harris    male  22.0      1   \n",
       "1  Cumings, Mrs. John Bradley (Florence Briggs Th...  female  38.0      1   \n",
       "2                             Heikkinen, Miss. Laina  female  26.0      0   \n",
       "3       Futrelle, Mrs. Jacques Heath (Lily May Peel)  female  35.0      1   \n",
       "4                           Allen, Mr. William Henry    male  35.0      0   \n",
       "\n",
       "   Parch            Ticket     Fare Cabin Embarked  \n",
       "0      0         A/5 21171   7.2500   NaN        S  \n",
       "1      0          PC 17599  71.2833   C85        C  \n",
       "2      0  STON/O2. 3101282   7.9250   NaN        S  \n",
       "3      0            113803  53.1000  C123        S  \n",
       "4      0            373450   8.0500   NaN        S  "
      ]
     },
     "execution_count": 201,
     "metadata": {},
     "output_type": "execute_result"
    }
   ],
   "source": [
    "# import data\n",
    "\n",
    "train = pd.read_csv('titanictrain.csv')\n",
    "test = pd.read_csv('titanictest.csv')\n",
    "\n",
    "train.head()\n"
   ]
  },
  {
   "cell_type": "markdown",
   "metadata": {},
   "source": [
    "## EDA"
   ]
  },
  {
   "cell_type": "code",
   "execution_count": 202,
   "metadata": {},
   "outputs": [
    {
     "name": "stdout",
     "output_type": "stream",
     "text": [
      "(891, 12)\n",
      "(418, 11)\n"
     ]
    }
   ],
   "source": [
    "print(train.shape)\n",
    "print(test.shape)"
   ]
  },
  {
   "cell_type": "code",
   "execution_count": 203,
   "metadata": {},
   "outputs": [
    {
     "data": {
      "text/plain": [
       "PassengerId      0\n",
       "Survived         0\n",
       "Pclass           0\n",
       "Name             0\n",
       "Sex              0\n",
       "Age            177\n",
       "SibSp            0\n",
       "Parch            0\n",
       "Ticket           0\n",
       "Fare             0\n",
       "Cabin          687\n",
       "Embarked         2\n",
       "dtype: int64"
      ]
     },
     "execution_count": 203,
     "metadata": {},
     "output_type": "execute_result"
    }
   ],
   "source": [
    "# number of nans in each column\n",
    "\n",
    "train.isnull().sum()"
   ]
  },
  {
   "cell_type": "markdown",
   "metadata": {},
   "source": [
    "Ideas: due to the large number of missing values, delete the cabin feature. Replace the 2 Embarked NAs with the most frequent. "
   ]
  },
  {
   "cell_type": "code",
   "execution_count": 204,
   "metadata": {},
   "outputs": [
    {
     "data": {
      "image/png": "[encoded data removed]",
      "text/plain": [
       "<Figure size 1000x1500 with 8 Axes>"
      ]
     },
     "metadata": {},
     "output_type": "display_data"
    }
   ],
   "source": [
    "import matplotlib.pyplot as plt\n",
    "\n",
    "# Create subplots\n",
    "fig, axs = plt.subplots(4, 2, figsize=(10, 15))\n",
    "\n",
    "# Histograms of the data\n",
    "train['Survived'].value_counts().plot(kind='bar', ax=axs[0, 0])\n",
    "axs[0, 0].set_title('Survived Distribution')\n",
    "\n",
    "train['Sex'].value_counts().plot(kind='bar', ax=axs[0, 1])\n",
    "axs[0, 1].set_title('Sex Distribution')\n",
    "\n",
    "train['Age'].plot(kind='hist', bins=20, ax=axs[1, 0])\n",
    "axs[1, 0].set_title('Age Distribution')\n",
    "\n",
    "train['Pclass'].value_counts().sort_index().plot(kind='bar', ax=axs[1, 1])\n",
    "axs[1, 1].set_title('Socioeconomic Status Distribution')\n",
    "\n",
    "train['SibSp'].value_counts().sort_index().plot(kind='bar', ax=axs[2, 0])\n",
    "axs[2, 0].set_title('Nb of Siblings/Spouses Distribution')\n",
    "\n",
    "train['Parch'].value_counts().sort_index().plot(kind='bar', ax=axs[2, 1])\n",
    "axs[2, 1].set_title('Nb od Parents/Children Distribution')\n",
    "\n",
    "train['Fare'].plot(kind='hist', bins=20, ax=axs[3, 0])\n",
    "axs[3, 0].set_title('Fare Distribution')\n",
    "\n",
    "train['Embarked'].value_counts().plot(kind='bar', ax=axs[3, 1])\n",
    "axs[3, 1].set_title('Embarked Distribution')\n",
    "\n",
    "# Adjust layout\n",
    "plt.tight_layout()\n",
    "\n",
    "# Show plot\n",
    "plt.show()\n"
   ]
  },
  {
   "cell_type": "code",
   "execution_count": 205,
   "metadata": {},
   "outputs": [],
   "source": [
    "survived = train[train['Survived'] == 1]\n",
    "died = train[train['Survived'] == 0]\n",
    "\n",
    "list_surv=survived['Sex'].value_counts().tolist()\n",
    "list_died=died['Sex'].value_counts().tolist()\n",
    "keysdied=died['Sex'].value_counts().keys().tolist()\n",
    "keyssurv=survived['Sex'].value_counts().keys().tolist()\n",
    "#print(keyssurv)\n",
    "#print(list_surv)\n",
    "#print(keysdied)\n",
    "#print(list_died)"
   ]
  },
  {
   "cell_type": "code",
   "execution_count": 206,
   "metadata": {},
   "outputs": [
    {
     "data": {
      "text/plain": [
       "<matplotlib.legend.Legend at 0x2b2c854d3d0>"
      ]
     },
     "execution_count": 206,
     "metadata": {},
     "output_type": "execute_result"
    },
    {
     "data": {
      "image/png": "[encoded data removed]",
      "text/plain": [
       "<Figure size 640x480 with 1 Axes>"
      ]
     },
     "metadata": {},
     "output_type": "display_data"
    }
   ],
   "source": [
    "# survival distribution by sex\n",
    "\n",
    "plt.figure()\n",
    "\n",
    "status = ('Died','Survived')\n",
    "y_pos = np.arange(len(status))\n",
    "\n",
    "plt.bar(y_pos-0.2, [468,109], width=0.4)\n",
    "plt.bar(y_pos+0.2, [81,233], width=0.4)\n",
    "plt.xticks(y_pos, status)\n",
    "plt.xlabel('Status')\n",
    "plt.ylabel('Nb')\n",
    "plt.legend(['Men', 'Female'])  "
   ]
  },
  {
   "cell_type": "markdown",
   "metadata": {},
   "source": [
    "to do:\n",
    "\n",
    "- test decision forests with tf\n",
    "- test random forests with sklearn\n",
    "- test svms\n",
    "- test preprocessing and check results"
   ]
  },
  {
   "cell_type": "markdown",
   "metadata": {},
   "source": [
    "## Preprocessing"
   ]
  },
  {
   "cell_type": "markdown",
   "metadata": {},
   "source": [
    "At this stage preprcessing consisted in transforming string categorical variables to numeric codes and dropping tickets and cabins"
   ]
  },
  {
   "cell_type": "code",
   "execution_count": 207,
   "metadata": {},
   "outputs": [
    {
     "name": "stdout",
     "output_type": "stream",
     "text": [
      "0                              Braund, Mr. Owen Harris\n",
      "1    Cumings, Mrs. John Bradley (Florence Briggs Th...\n",
      "2                               Heikkinen, Miss. Laina\n",
      "3         Futrelle, Mrs. Jacques Heath (Lily May Peel)\n",
      "4                             Allen, Mr. William Henry\n",
      "5                                     Moran, Mr. James\n",
      "6                              McCarthy, Mr. Timothy J\n",
      "7                       Palsson, Master. Gosta Leonard\n",
      "8    Johnson, Mrs. Oscar W (Elisabeth Vilhelmina Berg)\n",
      "9                  Nasser, Mrs. Nicholas (Adele Achem)\n",
      "Name: Name, dtype: object\n"
     ]
    }
   ],
   "source": [
    "print(train['Name'].head(10))"
   ]
  },
  {
   "cell_type": "code",
   "execution_count": 208,
   "metadata": {},
   "outputs": [
    {
     "name": "stdout",
     "output_type": "stream",
     "text": [
      "   PassengerId  Survived  Pclass  \\\n",
      "0            1         0       3   \n",
      "1            2         1       1   \n",
      "2            3         1       3   \n",
      "3            4         1       1   \n",
      "4            5         0       3   \n",
      "5            6         0       3   \n",
      "6            7         0       1   \n",
      "7            8         0       3   \n",
      "8            9         1       3   \n",
      "9           10         1       2   \n",
      "\n",
      "                                                Name     Sex   Age  SibSp  \\\n",
      "0                            Braund, Mr. Owen Harris    male  22.0      1   \n",
      "1  Cumings, Mrs. John Bradley (Florence Briggs Th...  female  38.0      1   \n",
      "2                             Heikkinen, Miss. Laina  female  26.0      0   \n",
      "3       Futrelle, Mrs. Jacques Heath (Lily May Peel)  female  35.0      1   \n",
      "4                           Allen, Mr. William Henry    male  35.0      0   \n",
      "5                                   Moran, Mr. James    male   NaN      0   \n",
      "6                            McCarthy, Mr. Timothy J    male  54.0      0   \n",
      "7                     Palsson, Master. Gosta Leonard    male   2.0      3   \n",
      "8  Johnson, Mrs. Oscar W (Elisabeth Vilhelmina Berg)  female  27.0      0   \n",
      "9                Nasser, Mrs. Nicholas (Adele Achem)  female  14.0      1   \n",
      "\n",
      "   Parch            Ticket     Fare Cabin Embarked   Title  \n",
      "0      0         A/5 21171   7.2500   NaN        S      Mr  \n",
      "1      0          PC 17599  71.2833   C85        C     Mrs  \n",
      "2      0  STON/O2. 3101282   7.9250   NaN        S    Miss  \n",
      "3      0            113803  53.1000  C123        S     Mrs  \n",
      "4      0            373450   8.0500   NaN        S      Mr  \n",
      "5      0            330877   8.4583   NaN        Q      Mr  \n",
      "6      0             17463  51.8625   E46        S      Mr  \n",
      "7      1            349909  21.0750   NaN        S  Master  \n",
      "8      2            347742  11.1333   NaN        S     Mrs  \n",
      "9      0            237736  30.0708   NaN        C     Mrs  \n",
      "   PassengerId  Pclass                                          Name     Sex  \\\n",
      "0          892       3                              Kelly, Mr. James    male   \n",
      "1          893       3              Wilkes, Mrs. James (Ellen Needs)  female   \n",
      "2          894       2                     Myles, Mr. Thomas Francis    male   \n",
      "3          895       3                              Wirz, Mr. Albert    male   \n",
      "4          896       3  Hirvonen, Mrs. Alexander (Helga E Lindqvist)  female   \n",
      "5          897       3                    Svensson, Mr. Johan Cervin    male   \n",
      "6          898       3                          Connolly, Miss. Kate  female   \n",
      "7          899       2                  Caldwell, Mr. Albert Francis    male   \n",
      "8          900       3     Abrahim, Mrs. Joseph (Sophie Halaut Easu)  female   \n",
      "9          901       3                       Davies, Mr. John Samuel    male   \n",
      "\n",
      "    Age  SibSp  Parch     Ticket     Fare Cabin Embarked Title  \n",
      "0  34.5      0      0     330911   7.8292   NaN        Q    Mr  \n",
      "1  47.0      1      0     363272   7.0000   NaN        S   Mrs  \n",
      "2  62.0      0      0     240276   9.6875   NaN        Q    Mr  \n",
      "3  27.0      0      0     315154   8.6625   NaN        S    Mr  \n",
      "4  22.0      1      1    3101298  12.2875   NaN        S   Mrs  \n",
      "5  14.0      0      0       7538   9.2250   NaN        S    Mr  \n",
      "6  30.0      0      0     330972   7.6292   NaN        Q  Miss  \n",
      "7  26.0      1      1     248738  29.0000   NaN        S    Mr  \n",
      "8  18.0      0      0       2657   7.2292   NaN        C   Mrs  \n",
      "9  21.0      2      0  A/4 48871  24.1500   NaN        S    Mr  \n"
     ]
    }
   ],
   "source": [
    "## divde names into title, first name and last name in a list\n",
    "\n",
    "def split_nametitle(name):\n",
    "    return name.split(',')[1].split('.')[0].strip()\n",
    "\n",
    "def split_namefirst(name):\n",
    "    return name.split(',')[0].strip()\n",
    "\n",
    "def split_namelast(name):\n",
    "    return name.split(',')[1].split('.')[1].strip()\n",
    "\n",
    "train['Title'] = train['Name'].apply(split_nametitle)\n",
    "\n",
    "\n",
    "#print train set with new columns\n",
    "print(train.head(10))\n",
    "\n",
    "test['Title'] = test['Name'].apply(split_nametitle)\n",
    "\n",
    "\n",
    "#print test set with new columns\n",
    "print(test.head(10))\n",
    "\n",
    "#drop name columns from train and test\n",
    "\n",
    "train = train.drop(['Name'], axis=1)\n",
    "test = test.drop(['Name'], axis=1)\n",
    "\n",
    "\n"
   ]
  },
  {
   "cell_type": "code",
   "execution_count": 209,
   "metadata": {},
   "outputs": [
    {
     "name": "stdout",
     "output_type": "stream",
     "text": [
      "   PassengerId  Survived  Pclass  Sex   Age  SibSp  Parch     Fare  Embarked  \\\n",
      "0            1         0       3    0  22.0      1      0   7.2500         2   \n",
      "1            2         1       1    1  38.0      1      0  71.2833         0   \n",
      "2            3         1       3    1  26.0      0      0   7.9250         2   \n",
      "3            4         1       1    1  35.0      1      0  53.1000         2   \n",
      "4            5         0       3    0  35.0      0      0   8.0500         2   \n",
      "5            6         0       3    0   NaN      0      0   8.4583         1   \n",
      "6            7         0       1    0  54.0      0      0  51.8625         2   \n",
      "7            8         0       3    0   2.0      3      1  21.0750         2   \n",
      "8            9         1       3    1  27.0      0      2  11.1333         2   \n",
      "9           10         1       2    1  14.0      1      0  30.0708         0   \n",
      "\n",
      "   Title  \n",
      "0      0  \n",
      "1      2  \n",
      "2      1  \n",
      "3      2  \n",
      "4      0  \n",
      "5      0  \n",
      "6      0  \n",
      "7      3  \n",
      "8      2  \n",
      "9      2  \n",
      "   PassengerId  Pclass  Sex   Age  SibSp  Parch     Fare  Embarked  Title\n",
      "0          892       3    0  34.5      0      0   7.8292         1      0\n",
      "1          893       3    1  47.0      1      0   7.0000         2      2\n",
      "2          894       2    0  62.0      0      0   9.6875         1      0\n",
      "3          895       3    0  27.0      0      0   8.6625         2      0\n",
      "4          896       3    1  22.0      1      1  12.2875         2      2\n",
      "5          897       3    0  14.0      0      0   9.2250         2      0\n",
      "6          898       3    1  30.0      0      0   7.6292         1      1\n",
      "7          899       2    0  26.0      1      1  29.0000         2      0\n",
      "8          900       3    1  18.0      0      0   7.2292         0      2\n",
      "9          901       3    0  21.0      2      0  24.1500         2      0\n"
     ]
    }
   ],
   "source": [
    "# mr --> 0, miss --> 1, mrs --> 2, master --> 3, other --> 4\n",
    "\n",
    "def title_to_num(title):\n",
    "    if title == 'Mr':\n",
    "        return 0\n",
    "    elif title == 'Miss':\n",
    "        return 1\n",
    "    elif title == 'Mrs':\n",
    "        return 2\n",
    "    elif title == 'Master':\n",
    "        return 3\n",
    "    else:\n",
    "        return 4\n",
    "    \n",
    "train['Title'] = train['Title'].apply(title_to_num)\n",
    "test['Title'] = test['Title'].apply(title_to_num)\n",
    "\n",
    "def sex_to_num(sex):\n",
    "    if sex=='male':\n",
    "        return 0\n",
    "    else:\n",
    "        return 1\n",
    "\n",
    "train['Sex'] = train['Sex'].apply(sex_to_num)\n",
    "test['Sex'] = test['Sex'].apply(sex_to_num)\n",
    "\n",
    "# embarked: C --> 0, Q --> 1, S --> 2\n",
    "\n",
    "def embarked_to_num(embarked):\n",
    "    if embarked == 'C':\n",
    "        return 0\n",
    "    elif embarked == 'Q':\n",
    "        return 1\n",
    "    else:\n",
    "        return 2\n",
    "\n",
    "train['Embarked'] = train['Embarked'].apply(embarked_to_num)\n",
    "test['Embarked'] = test['Embarked'].apply(embarked_to_num)\n",
    "\n",
    "# drop ticket and cabin\n",
    "\n",
    "train = train.drop(['Ticket', 'Cabin'], axis=1)\n",
    "test = test.drop(['Ticket', 'Cabin'], axis=1)\n",
    "\n",
    "print(train.head(10))\n",
    "print(test.head(10))\n"
   ]
  },
  {
   "cell_type": "markdown",
   "metadata": {},
   "source": [
    "## Sklearn Random Forests"
   ]
  },
  {
   "cell_type": "code",
   "execution_count": 210,
   "metadata": {},
   "outputs": [],
   "source": [
    "# get vector of survived column\n",
    "y = train['Survived'].values\n",
    "\n",
    "# drop survived column\n",
    "train = train.drop(columns=['Survived'])"
   ]
  },
  {
   "cell_type": "code",
   "execution_count": 211,
   "metadata": {},
   "outputs": [],
   "source": [
    "# check sizes\n",
    "#print(y.shape)\n",
    "#print(train.shape)"
   ]
  },
  {
   "cell_type": "markdown",
   "metadata": {},
   "source": [
    "Default RF"
   ]
  },
  {
   "cell_type": "code",
   "execution_count": 212,
   "metadata": {},
   "outputs": [
    {
     "name": "stdout",
     "output_type": "stream",
     "text": [
      "Mean cross-validation score: 0.80\n"
     ]
    }
   ],
   "source": [
    "model_defRF = RandomForestClassifier(random_state=0)\n",
    "model_defRF.fit(train, y)\n",
    "\n",
    "# cross validation\n",
    "\n",
    "scores = cross_val_score(model_defRF, train, y, cv=5)\n",
    "print(\"Mean cross-validation score: %.2f\" % scores.mean())"
   ]
  },
  {
   "cell_type": "markdown",
   "metadata": {},
   "source": [
    "Hyperparameter tuning RF"
   ]
  },
  {
   "cell_type": "code",
   "execution_count": 213,
   "metadata": {},
   "outputs": [],
   "source": [
    "# use random search to find best hyperparameters (not all parameters are attempted)\n",
    "\n",
    "# nb of trees\n",
    "\n",
    "n_estimators = [int(x) for x in np.linspace(start=200, stop=2000, num=10)] # 10 values between 200 and 2000\n",
    "\n",
    "# nb of features to consider at each split\n",
    "\n",
    "max_features = ['sqrt', 'log2',None] \n",
    "\n",
    "# max depth of the tree\n",
    "\n",
    "max_depth = [int(x) for x in np.linspace(10, 110, num=11)] # 11 values between 10 and 110\n",
    "\n",
    "# min number of samples required to split a node\n",
    "\n",
    "min_samples_split = [2, 5, 10, 20]\n",
    "\n",
    "# min number of samples required at each leaf node\n",
    "\n",
    "min_samples_leaf = [1, 2, 4, 8]\n",
    "\n",
    "# method of selecting samples for training each tree\n",
    "\n",
    "bootstrap = [True, False] # if false the whole dataset is used to build each tree\n",
    "\n",
    "# create the random grid\n",
    "\n",
    "random_grid = {'n_estimators': n_estimators,\n",
    "                'max_features': max_features,\n",
    "                'max_depth': max_depth,\n",
    "                'min_samples_split': min_samples_split,\n",
    "                'min_samples_leaf': min_samples_leaf,\n",
    "                'bootstrap': bootstrap}\n"
   ]
  },
  {
   "cell_type": "code",
   "execution_count": 214,
   "metadata": {},
   "outputs": [
    {
     "name": "stdout",
     "output_type": "stream",
     "text": [
      "Fitting 3 folds for each of 100 candidates, totalling 300 fits\n",
      "{'n_estimators': 600, 'min_samples_split': 5, 'min_samples_leaf': 2, 'max_features': 'log2', 'max_depth': 60, 'bootstrap': True}\n",
      "0.8372615039281706\n"
     ]
    }
   ],
   "source": [
    "rf = RandomForestClassifier()\n",
    "\n",
    "# searches for the best hyperparameters across 100 different combinations, and uses 3 fold cross validation\n",
    "model_randomRF = RandomizedSearchCV(estimator=rf, param_distributions=random_grid, n_iter=100, cv=3, verbose=2, random_state=42, n_jobs=-1)\n",
    "\n",
    "model_randomRF.fit(train, y)\n",
    "\n",
    "print(model_randomRF.best_params_)\n",
    "print(model_randomRF.best_score_)"
   ]
  },
  {
   "cell_type": "code",
   "execution_count": 216,
   "metadata": {},
   "outputs": [
    {
     "name": "stdout",
     "output_type": "stream",
     "text": [
      "Mean cross-validation score: 0.81\n"
     ]
    }
   ],
   "source": [
    "# train with best hyperparameters\n",
    "\n",
    "model_bestrandomRF = RandomForestClassifier(n_estimators=600, min_samples_split=5, min_samples_leaf=2, max_features='log2', max_depth=60, bootstrap=True, random_state=0)\n",
    "model_bestrandomRF.fit(train, y)\n",
    "\n",
    "# cross validation\n",
    "\n",
    "scores = cross_val_score(model_bestrandomRF, train, y, cv=5)\n",
    "print(\"Mean cross-validation score: %.2f\" % scores.mean())"
   ]
  },
  {
   "cell_type": "markdown",
   "metadata": {},
   "source": [
    "Using GridSearch based on the RandomSearch results"
   ]
  },
  {
   "cell_type": "code",
   "execution_count": null,
   "metadata": {},
   "outputs": [],
   "source": []
  },
  {
   "cell_type": "code",
   "execution_count": null,
   "metadata": {},
   "outputs": [],
   "source": []
  },
  {
   "cell_type": "code",
   "execution_count": null,
   "metadata": {},
   "outputs": [],
   "source": []
  },
  {
   "cell_type": "code",
   "execution_count": null,
   "metadata": {},
   "outputs": [],
   "source": []
  },
  {
   "cell_type": "code",
   "execution_count": null,
   "metadata": {},
   "outputs": [],
   "source": []
  }
 ],
 "metadata": {
  "kernelspec": {
   "display_name": "ppvenv",
   "language": "python",
   "name": "python3"
  },
  "language_info": {
   "codemirror_mode": {
    "name": "ipython",
    "version": 3
   },
   "file_extension": ".py",
   "mimetype": "text/x-python",
   "name": "python",
   "nbconvert_exporter": "python",
   "pygments_lexer": "ipython3",
   "version": "3.11.2"
  }
 },
 "nbformat": 4,
 "nbformat_minor": 2
}

{
 "cells": [
  {
   "cell_type": "code",
   "execution_count": 171,
   "metadata": {},
   "outputs": [],
   "source": [
    "import pandas as pd\n",
    "import numpy as np\n",
    "import matplotlib.pyplot as plt\n",
    "import os\n",
    "from sklearn.ensemble import RandomForestClassifier\n",
    "from sklearn.model_selection import cross_val_score\n",
    "from sklearn.model_selection import GridSearchCV\n",
    "from sklearn.model_selection import RandomizedSearchCV"
   ]
  },
  {
   "cell_type": "code",
   "execution_count": 172,
   "metadata": {},
   "outputs": [
    {
     "data": {
      "text/html": [
       "<div>\n",
       "<style scoped>\n",
       "    .dataframe tbody tr th:only-of-type {\n",
       "        vertical-align: middle;\n",
       "    }\n",
       "\n",
       "    .dataframe tbody tr th {\n",
       "        vertical-align: top;\n",
       "    }\n",
       "\n",
       "    .dataframe thead th {\n",
       "        text-align: right;\n",
       "    }\n",
       "</style>\n",
       "<table border=\"1\" class=\"dataframe\">\n",
       "  <thead>\n",
       "    <tr style=\"text-align: right;\">\n",
       "      <th></th>\n",
       "      <th>PassengerId</th>\n",
       "      <th>Survived</th>\n",
       "      <th>Pclass</th>\n",
       "      <th>Name</th>\n",
       "      <th>Sex</th>\n",
       "      <th>Age</th>\n",
       "      <th>SibSp</th>\n",
       "      <th>Parch</th>\n",
       "      <th>Ticket</th>\n",
       "      <th>Fare</th>\n",
       "      <th>Cabin</th>\n",
       "      <th>Embarked</th>\n",
       "    </tr>\n",
       "  </thead>\n",
       "  <tbody>\n",
       "    <tr>\n",
       "      <th>0</th>\n",
       "      <td>1</td>\n",
       "      <td>0</td>\n",
       "      <td>3</td>\n",
       "      <td>Braund, Mr. Owen Harris</td>\n",
       "      <td>male</td>\n",
       "      <td>22.0</td>\n",
       "      <td>1</td>\n",
       "      <td>0</td>\n",
       "      <td>A/5 21171</td>\n",
       "      <td>7.2500</td>\n",
       "      <td>NaN</td>\n",
       "      <td>S</td>\n",
       "    </tr>\n",
       "    <tr>\n",
       "      <th>1</th>\n",
       "      <td>2</td>\n",
       "      <td>1</td>\n",
       "      <td>1</td>\n",
       "      <td>Cumings, Mrs. John Bradley (Florence Briggs Th...</td>\n",
       "      <td>female</td>\n",
       "      <td>38.0</td>\n",
       "      <td>1</td>\n",
       "      <td>0</td>\n",
       "      <td>PC 17599</td>\n",
       "      <td>71.2833</td>\n",
       "      <td>C85</td>\n",
       "      <td>C</td>\n",
       "    </tr>\n",
       "    <tr>\n",
       "      <th>2</th>\n",
       "      <td>3</td>\n",
       "      <td>1</td>\n",
       "      <td>3</td>\n",
       "      <td>Heikkinen, Miss. Laina</td>\n",
       "      <td>female</td>\n",
       "      <td>26.0</td>\n",
       "      <td>0</td>\n",
       "      <td>0</td>\n",
       "      <td>STON/O2. 3101282</td>\n",
       "      <td>7.9250</td>\n",
       "      <td>NaN</td>\n",
       "      <td>S</td>\n",
       "    </tr>\n",
       "    <tr>\n",
       "      <th>3</th>\n",
       "      <td>4</td>\n",
       "      <td>1</td>\n",
       "      <td>1</td>\n",
       "      <td>Futrelle, Mrs. Jacques Heath (Lily May Peel)</td>\n",
       "      <td>female</td>\n",
       "      <td>35.0</td>\n",
       "      <td>1</td>\n",
       "      <td>0</td>\n",
       "      <td>113803</td>\n",
       "      <td>53.1000</td>\n",
       "      <td>C123</td>\n",
       "      <td>S</td>\n",
       "    </tr>\n",
       "    <tr>\n",
       "      <th>4</th>\n",
       "      <td>5</td>\n",
       "      <td>0</td>\n",
       "      <td>3</td>\n",
       "      <td>Allen, Mr. William Henry</td>\n",
       "      <td>male</td>\n",
       "      <td>35.0</td>\n",
       "      <td>0</td>\n",
       "      <td>0</td>\n",
       "      <td>373450</td>\n",
       "      <td>8.0500</td>\n",
       "      <td>NaN</td>\n",
       "      <td>S</td>\n",
       "    </tr>\n",
       "  </tbody>\n",
       "</table>\n",
       "</div>"
      ],
      "text/plain": [
       "   PassengerId  Survived  Pclass  \\\n",
       "0            1         0       3   \n",
       "1            2         1       1   \n",
       "2            3         1       3   \n",
       "3            4         1       1   \n",
       "4            5         0       3   \n",
       "\n",
       "                                                Name     Sex   Age  SibSp  \\\n",
       "0                            Braund, Mr. Owen Harris    male  22.0      1   \n",
       "1  Cumings, Mrs. John Bradley (Florence Briggs Th...  female  38.0      1   \n",
       "2                             Heikkinen, Miss. Laina  female  26.0      0   \n",
       "3       Futrelle, Mrs. Jacques Heath (Lily May Peel)  female  35.0      1   \n",
       "4                           Allen, Mr. William Henry    male  35.0      0   \n",
       "\n",
       "   Parch            Ticket     Fare Cabin Embarked  \n",
       "0      0         A/5 21171   7.2500   NaN        S  \n",
       "1      0          PC 17599  71.2833   C85        C  \n",
       "2      0  STON/O2. 3101282   7.9250   NaN        S  \n",
       "3      0            113803  53.1000  C123        S  \n",
       "4      0            373450   8.0500   NaN        S  "
      ]
     },
     "execution_count": 172,
     "metadata": {},
     "output_type": "execute_result"
    }
   ],
   "source": [
    "# import data\n",
    "\n",
    "train = pd.read_csv('titanictrain.csv')\n",
    "test = pd.read_csv('titanictest.csv')\n",
    "\n",
    "train.head()\n"
   ]
  },
  {
   "cell_type": "markdown",
   "metadata": {},
   "source": [
    "## EDA"
   ]
  },
  {
   "cell_type": "code",
   "execution_count": 173,
   "metadata": {},
   "outputs": [
    {
     "name": "stdout",
     "output_type": "stream",
     "text": [
      "(891, 12)\n",
      "(418, 11)\n"
     ]
    }
   ],
   "source": [
    "print(train.shape)\n",
    "print(test.shape)"
   ]
  },
  {
   "cell_type": "code",
   "execution_count": 174,
   "metadata": {},
   "outputs": [
    {
     "data": {
      "text/plain": [
       "PassengerId      0\n",
       "Survived         0\n",
       "Pclass           0\n",
       "Name             0\n",
       "Sex              0\n",
       "Age            177\n",
       "SibSp            0\n",
       "Parch            0\n",
       "Ticket           0\n",
       "Fare             0\n",
       "Cabin          687\n",
       "Embarked         2\n",
       "dtype: int64"
      ]
     },
     "execution_count": 174,
     "metadata": {},
     "output_type": "execute_result"
    }
   ],
   "source": [
    "# number of nans in each column\n",
    "\n",
    "train.isnull().sum()"
   ]
  },
  {
   "cell_type": "code",
   "execution_count": 175,
   "metadata": {},
   "outputs": [
    {
     "data": {
      "image/png": "[encoded data removed]",
      "text/plain": [
       "<Figure size 1000x1500 with 8 Axes>"
      ]
     },
     "metadata": {},
     "output_type": "display_data"
    }
   ],
   "source": [
    "import matplotlib.pyplot as plt\n",
    "\n",
    "# Create subplots\n",
    "fig, axs = plt.subplots(4, 2, figsize=(10, 15))\n",
    "\n",
    "# Histograms of the data\n",
    "train['Survived'].value_counts().plot(kind='bar', ax=axs[0, 0])\n",
    "axs[0, 0].set_title('Survived Distribution')\n",
    "\n",
    "train['Sex'].value_counts().plot(kind='bar', ax=axs[0, 1])\n",
    "axs[0, 1].set_title('Sex Distribution')\n",
    "\n",
    "train['Age'].plot(kind='hist', bins=20, ax=axs[1, 0])\n",
    "axs[1, 0].set_title('Age Distribution')\n",
    "\n",
    "train['Pclass'].value_counts().sort_index().plot(kind='bar', ax=axs[1, 1])\n",
    "axs[1, 1].set_title('Socioeconomic Status Distribution')\n",
    "\n",
    "train['SibSp'].value_counts().sort_index().plot(kind='bar', ax=axs[2, 0])\n",
    "axs[2, 0].set_title('Nb of Siblings/Spouses Distribution')\n",
    "\n",
    "train['Parch'].value_counts().sort_index().plot(kind='bar', ax=axs[2, 1])\n",
    "axs[2, 1].set_title('Nb od Parents/Children Distribution')\n",
    "\n",
    "train['Fare'].plot(kind='hist', bins=20, ax=axs[3, 0])\n",
    "axs[3, 0].set_title('Fare Distribution')\n",
    "\n",
    "train['Embarked'].value_counts().plot(kind='bar', ax=axs[3, 1])\n",
    "axs[3, 1].set_title('Embarked Distribution')\n",
    "\n",
    "# Adjust layout\n",
    "plt.tight_layout()\n",
    "\n",
    "# Show plot\n",
    "plt.show()\n"
   ]
  },
  {
   "cell_type": "code",
   "execution_count": 176,
   "metadata": {},
   "outputs": [],
   "source": [
    "survived = train[train['Survived'] == 1]\n",
    "died = train[train['Survived'] == 0]\n",
    "\n",
    "list_surv=survived['Sex'].value_counts().tolist()\n",
    "list_died=died['Sex'].value_counts().tolist()\n",
    "keysdied=died['Sex'].value_counts().keys().tolist()\n",
    "keyssurv=survived['Sex'].value_counts().keys().tolist()\n",
    "#print(keyssurv)\n",
    "#print(list_surv)\n",
    "#print(keysdied)\n",
    "#print(list_died)"
   ]
  },
  {
   "cell_type": "code",
   "execution_count": 177,
   "metadata": {},
   "outputs": [
    {
     "data": {
      "text/plain": [
       "<matplotlib.legend.Legend at 0x20d81f19f50>"
      ]
     },
     "execution_count": 177,
     "metadata": {},
     "output_type": "execute_result"
    },
    {
     "data": {
      "image/png": "[encoded data removed]",
      "text/plain": [
       "<Figure size 640x480 with 1 Axes>"
      ]
     },
     "metadata": {},
     "output_type": "display_data"
    }
   ],
   "source": [
    "# survival distribution by sex\n",
    "\n",
    "plt.figure()\n",
    "\n",
    "status = ('Died','Survived')\n",
    "y_pos = np.arange(len(status))\n",
    "\n",
    "plt.bar(y_pos-0.2, [468,109], width=0.4)\n",
    "plt.bar(y_pos+0.2, [81,233], width=0.4)\n",
    "plt.xticks(y_pos, status)\n",
    "plt.xlabel('Status')\n",
    "plt.ylabel('Nb')\n",
    "plt.legend(['Men', 'Female'])  "
   ]
  },
  {
   "cell_type": "markdown",
   "metadata": {},
   "source": [
    "## Preprocessing"
   ]
  },
  {
   "cell_type": "markdown",
   "metadata": {},
   "source": [
    "First stage: preprocessing consisted in transforming string categorical variables to numeric codes and dropping tickets and cabins"
   ]
  },
  {
   "cell_type": "code",
   "execution_count": 178,
   "metadata": {},
   "outputs": [
    {
     "name": "stdout",
     "output_type": "stream",
     "text": [
      "0                              Braund, Mr. Owen Harris\n",
      "1    Cumings, Mrs. John Bradley (Florence Briggs Th...\n",
      "2                               Heikkinen, Miss. Laina\n",
      "3         Futrelle, Mrs. Jacques Heath (Lily May Peel)\n",
      "4                             Allen, Mr. William Henry\n",
      "5                                     Moran, Mr. James\n",
      "6                              McCarthy, Mr. Timothy J\n",
      "7                       Palsson, Master. Gosta Leonard\n",
      "8    Johnson, Mrs. Oscar W (Elisabeth Vilhelmina Berg)\n",
      "9                  Nasser, Mrs. Nicholas (Adele Achem)\n",
      "Name: Name, dtype: object\n"
     ]
    }
   ],
   "source": [
    "print(train['Name'].head(10))"
   ]
  },
  {
   "cell_type": "code",
   "execution_count": 179,
   "metadata": {},
   "outputs": [
    {
     "name": "stdout",
     "output_type": "stream",
     "text": [
      "   PassengerId  Survived  Pclass  \\\n",
      "0            1         0       3   \n",
      "1            2         1       1   \n",
      "2            3         1       3   \n",
      "3            4         1       1   \n",
      "4            5         0       3   \n",
      "5            6         0       3   \n",
      "6            7         0       1   \n",
      "7            8         0       3   \n",
      "8            9         1       3   \n",
      "9           10         1       2   \n",
      "\n",
      "                                                Name     Sex   Age  SibSp  \\\n",
      "0                            Braund, Mr. Owen Harris    male  22.0      1   \n",
      "1  Cumings, Mrs. John Bradley (Florence Briggs Th...  female  38.0      1   \n",
      "2                             Heikkinen, Miss. Laina  female  26.0      0   \n",
      "3       Futrelle, Mrs. Jacques Heath (Lily May Peel)  female  35.0      1   \n",
      "4                           Allen, Mr. William Henry    male  35.0      0   \n",
      "5                                   Moran, Mr. James    male   NaN      0   \n",
      "6                            McCarthy, Mr. Timothy J    male  54.0      0   \n",
      "7                     Palsson, Master. Gosta Leonard    male   2.0      3   \n",
      "8  Johnson, Mrs. Oscar W (Elisabeth Vilhelmina Berg)  female  27.0      0   \n",
      "9                Nasser, Mrs. Nicholas (Adele Achem)  female  14.0      1   \n",
      "\n",
      "   Parch            Ticket     Fare Cabin Embarked   Title  \n",
      "0      0         A/5 21171   7.2500   NaN        S      Mr  \n",
      "1      0          PC 17599  71.2833   C85        C     Mrs  \n",
      "2      0  STON/O2. 3101282   7.9250   NaN        S    Miss  \n",
      "3      0            113803  53.1000  C123        S     Mrs  \n",
      "4      0            373450   8.0500   NaN        S      Mr  \n",
      "5      0            330877   8.4583   NaN        Q      Mr  \n",
      "6      0             17463  51.8625   E46        S      Mr  \n",
      "7      1            349909  21.0750   NaN        S  Master  \n",
      "8      2            347742  11.1333   NaN        S     Mrs  \n",
      "9      0            237736  30.0708   NaN        C     Mrs  \n",
      "   PassengerId  Pclass                                          Name     Sex  \\\n",
      "0          892       3                              Kelly, Mr. James    male   \n",
      "1          893       3              Wilkes, Mrs. James (Ellen Needs)  female   \n",
      "2          894       2                     Myles, Mr. Thomas Francis    male   \n",
      "3          895       3                              Wirz, Mr. Albert    male   \n",
      "4          896       3  Hirvonen, Mrs. Alexander (Helga E Lindqvist)  female   \n",
      "5          897       3                    Svensson, Mr. Johan Cervin    male   \n",
      "6          898       3                          Connolly, Miss. Kate  female   \n",
      "7          899       2                  Caldwell, Mr. Albert Francis    male   \n",
      "8          900       3     Abrahim, Mrs. Joseph (Sophie Halaut Easu)  female   \n",
      "9          901       3                       Davies, Mr. John Samuel    male   \n",
      "\n",
      "    Age  SibSp  Parch     Ticket     Fare Cabin Embarked Title  \n",
      "0  34.5      0      0     330911   7.8292   NaN        Q    Mr  \n",
      "1  47.0      1      0     363272   7.0000   NaN        S   Mrs  \n",
      "2  62.0      0      0     240276   9.6875   NaN        Q    Mr  \n",
      "3  27.0      0      0     315154   8.6625   NaN        S    Mr  \n",
      "4  22.0      1      1    3101298  12.2875   NaN        S   Mrs  \n",
      "5  14.0      0      0       7538   9.2250   NaN        S    Mr  \n",
      "6  30.0      0      0     330972   7.6292   NaN        Q  Miss  \n",
      "7  26.0      1      1     248738  29.0000   NaN        S    Mr  \n",
      "8  18.0      0      0       2657   7.2292   NaN        C   Mrs  \n",
      "9  21.0      2      0  A/4 48871  24.1500   NaN        S    Mr  \n"
     ]
    }
   ],
   "source": [
    "## divde names into title, first name and last name in a list\n",
    "\n",
    "def split_nametitle(name):\n",
    "    return name.split(',')[1].split('.')[0].strip()\n",
    "\n",
    "def split_namefirst(name):\n",
    "    return name.split(',')[0].strip()\n",
    "\n",
    "def split_namelast(name):\n",
    "    return name.split(',')[1].split('.')[1].strip()\n",
    "\n",
    "train['Title'] = train['Name'].apply(split_nametitle)\n",
    "\n",
    "\n",
    "#print train set with new columns\n",
    "print(train.head(10))\n",
    "\n",
    "test['Title'] = test['Name'].apply(split_nametitle)\n",
    "\n",
    "\n",
    "#print test set with new columns\n",
    "print(test.head(10))\n",
    "\n",
    "#drop name columns from train and test\n",
    "\n",
    "train = train.drop(['Name'], axis=1)\n",
    "test = test.drop(['Name'], axis=1)\n",
    "\n",
    "\n"
   ]
  },
  {
   "cell_type": "code",
   "execution_count": 181,
   "metadata": {},
   "outputs": [
    {
     "name": "stdout",
     "output_type": "stream",
     "text": [
      "   PassengerId  Survived  Pclass  Sex   Age  SibSp  Parch     Fare  Embarked  \\\n",
      "0            1         0       3    0  22.0      1      0   7.2500         2   \n",
      "1            2         1       1    1  38.0      1      0  71.2833         0   \n",
      "2            3         1       3    1  26.0      0      0   7.9250         2   \n",
      "3            4         1       1    1  35.0      1      0  53.1000         2   \n",
      "4            5         0       3    0  35.0      0      0   8.0500         2   \n",
      "5            6         0       3    0   NaN      0      0   8.4583         1   \n",
      "6            7         0       1    0  54.0      0      0  51.8625         2   \n",
      "7            8         0       3    0   2.0      3      1  21.0750         2   \n",
      "8            9         1       3    1  27.0      0      2  11.1333         2   \n",
      "9           10         1       2    1  14.0      1      0  30.0708         0   \n",
      "\n",
      "   Title  \n",
      "0      0  \n",
      "1      2  \n",
      "2      1  \n",
      "3      2  \n",
      "4      0  \n",
      "5      0  \n",
      "6      0  \n",
      "7      3  \n",
      "8      2  \n",
      "9      2  \n",
      "   PassengerId  Pclass  Sex   Age  SibSp  Parch     Fare  Embarked  Title\n",
      "0          892       3    0  34.5      0      0   7.8292         1      0\n",
      "1          893       3    1  47.0      1      0   7.0000         2      2\n",
      "2          894       2    0  62.0      0      0   9.6875         1      0\n",
      "3          895       3    0  27.0      0      0   8.6625         2      0\n",
      "4          896       3    1  22.0      1      1  12.2875         2      2\n",
      "5          897       3    0  14.0      0      0   9.2250         2      0\n",
      "6          898       3    1  30.0      0      0   7.6292         1      1\n",
      "7          899       2    0  26.0      1      1  29.0000         2      0\n",
      "8          900       3    1  18.0      0      0   7.2292         0      2\n",
      "9          901       3    0  21.0      2      0  24.1500         2      0\n"
     ]
    }
   ],
   "source": [
    "# mr --> 0, miss --> 1, mrs --> 2, master --> 3, other --> 4\n",
    "\n",
    "def title_to_num(title):\n",
    "    if title == 'Mr':\n",
    "        return 0\n",
    "    elif title == 'Miss':\n",
    "        return 1\n",
    "    elif title == 'Mrs':\n",
    "        return 2\n",
    "    elif title == 'Master':\n",
    "        return 3\n",
    "    else:\n",
    "        return 4\n",
    "    \n",
    "train['Title'] = train['Title'].apply(title_to_num)\n",
    "test['Title'] = test['Title'].apply(title_to_num)\n",
    "\n",
    "def sex_to_num(sex):\n",
    "    if sex=='male':\n",
    "        return 0\n",
    "    else:\n",
    "        return 1\n",
    "\n",
    "train['Sex'] = train['Sex'].apply(sex_to_num)\n",
    "test['Sex'] = test['Sex'].apply(sex_to_num)\n",
    "\n",
    "# embarked: C --> 0, Q --> 1, S --> 2\n",
    "\n",
    "def embarked_to_num(embarked):\n",
    "    if embarked == 'C':\n",
    "        return 0\n",
    "    elif embarked == 'Q':\n",
    "        return 1\n",
    "    else:\n",
    "        return 2\n",
    "\n",
    "train['Embarked'] = train['Embarked'].apply(embarked_to_num)\n",
    "test['Embarked'] = test['Embarked'].apply(embarked_to_num)\n",
    "\n",
    "# drop ticket and cabin\n",
    "\n",
    "train = train.drop(['Ticket', 'Cabin'], axis=1)\n",
    "test = test.drop(['Ticket', 'Cabin'], axis=1)\n",
    "\n",
    "print(train.head(10))\n",
    "print(test.head(10))\n"
   ]
  },
  {
   "cell_type": "code",
   "execution_count": 182,
   "metadata": {},
   "outputs": [
    {
     "data": {
      "text/plain": [
       "<Axes: >"
      ]
     },
     "execution_count": 182,
     "metadata": {},
     "output_type": "execute_result"
    },
    {
     "data": {
      "image/png": "[encoded data removed]",
      "text/plain": [
       "<Figure size 600x600 with 2 Axes>"
      ]
     },
     "metadata": {},
     "output_type": "display_data"
    }
   ],
   "source": [
    "# heat matrix\n",
    "\n",
    "import seaborn as sns\n",
    "\n",
    "plt.figure(figsize=(6, 6))\n",
    "sns.heatmap(train.corr(), annot=True, cmap='coolwarm')\n"
   ]
  },
  {
   "cell_type": "code",
   "execution_count": 145,
   "metadata": {},
   "outputs": [
    {
     "data": {
      "text/plain": [
       "PassengerId      0\n",
       "Survived         0\n",
       "Pclass           0\n",
       "Sex              0\n",
       "Age            177\n",
       "SibSp            0\n",
       "Parch            0\n",
       "Fare             0\n",
       "Embarked         0\n",
       "Title            0\n",
       "dtype: int64"
      ]
     },
     "execution_count": 145,
     "metadata": {},
     "output_type": "execute_result"
    }
   ],
   "source": [
    "train.isnull().sum()"
   ]
  },
  {
   "cell_type": "code",
   "execution_count": 146,
   "metadata": {},
   "outputs": [],
   "source": [
    "# get copy of train and test\n",
    "train_noNa = train.copy()\n",
    "test_noNa = test.copy()\n"
   ]
  },
  {
   "cell_type": "code",
   "execution_count": 147,
   "metadata": {},
   "outputs": [
    {
     "name": "stdout",
     "output_type": "stream",
     "text": [
      "PassengerId    0\n",
      "Survived       0\n",
      "Pclass         0\n",
      "Sex            0\n",
      "Age            0\n",
      "SibSp          0\n",
      "Parch          0\n",
      "Fare           0\n",
      "Embarked       0\n",
      "Title          0\n",
      "dtype: int64\n",
      "PassengerId    0\n",
      "Pclass         0\n",
      "Sex            0\n",
      "Age            0\n",
      "SibSp          0\n",
      "Parch          0\n",
      "Fare           1\n",
      "Embarked       0\n",
      "Title          0\n",
      "dtype: int64\n"
     ]
    },
    {
     "name": "stderr",
     "output_type": "stream",
     "text": [
      "C:\\Users\\beama\\AppData\\Local\\Temp\\ipykernel_10088\\3744989424.py:1: FutureWarning: A value is trying to be set on a copy of a DataFrame or Series through chained assignment using an inplace method.\n",
      "The behavior will change in pandas 3.0. This inplace method will never work because the intermediate object on which we are setting values always behaves as a copy.\n",
      "\n",
      "For example, when doing 'df[col].method(value, inplace=True)', try using 'df.method({col: value}, inplace=True)' or df[col] = df[col].method(value) instead, to perform the operation inplace on the original object.\n",
      "\n",
      "\n",
      "  train_noNa['Embarked'].fillna(2, inplace=True)\n",
      "C:\\Users\\beama\\AppData\\Local\\Temp\\ipykernel_10088\\3744989424.py:2: FutureWarning: A value is trying to be set on a copy of a DataFrame or Series through chained assignment using an inplace method.\n",
      "The behavior will change in pandas 3.0. This inplace method will never work because the intermediate object on which we are setting values always behaves as a copy.\n",
      "\n",
      "For example, when doing 'df[col].method(value, inplace=True)', try using 'df.method({col: value}, inplace=True)' or df[col] = df[col].method(value) instead, to perform the operation inplace on the original object.\n",
      "\n",
      "\n",
      "  test_noNa['Embarked'].fillna(2, inplace=True)\n",
      "C:\\Users\\beama\\AppData\\Local\\Temp\\ipykernel_10088\\3744989424.py:3: FutureWarning: A value is trying to be set on a copy of a DataFrame or Series through chained assignment using an inplace method.\n",
      "The behavior will change in pandas 3.0. This inplace method will never work because the intermediate object on which we are setting values always behaves as a copy.\n",
      "\n",
      "For example, when doing 'df[col].method(value, inplace=True)', try using 'df.method({col: value}, inplace=True)' or df[col] = df[col].method(value) instead, to perform the operation inplace on the original object.\n",
      "\n",
      "\n",
      "  train_noNa['Age'].fillna(train_noNa['Age'].mean(), inplace=True)\n",
      "C:\\Users\\beama\\AppData\\Local\\Temp\\ipykernel_10088\\3744989424.py:4: FutureWarning: A value is trying to be set on a copy of a DataFrame or Series through chained assignment using an inplace method.\n",
      "The behavior will change in pandas 3.0. This inplace method will never work because the intermediate object on which we are setting values always behaves as a copy.\n",
      "\n",
      "For example, when doing 'df[col].method(value, inplace=True)', try using 'df.method({col: value}, inplace=True)' or df[col] = df[col].method(value) instead, to perform the operation inplace on the original object.\n",
      "\n",
      "\n",
      "  test_noNa['Age'].fillna(test_noNa['Age'].mean(), inplace=True)\n"
     ]
    }
   ],
   "source": [
    "train_noNa['Embarked'].fillna(2, inplace=True)\n",
    "test_noNa['Embarked'].fillna(2, inplace=True)\n",
    "train_noNa['Age'].fillna(train_noNa['Age'].mean(), inplace=True)\n",
    "test_noNa['Age'].fillna(test_noNa['Age'].mean(), inplace=True)\n",
    "\n",
    "print(train_noNa.isnull().sum())\n",
    "print(test_noNa.isnull().sum())"
   ]
  },
  {
   "cell_type": "markdown",
   "metadata": {},
   "source": [
    "## Sklearn Random Forests"
   ]
  },
  {
   "cell_type": "code",
   "execution_count": 148,
   "metadata": {},
   "outputs": [],
   "source": [
    "# get vector of survived column\n",
    "y = train['Survived'].values\n",
    "\n",
    "# drop survived column\n",
    "train = train.drop(columns=['Survived'])\n",
    "train_noNa = train_noNa.drop(columns=['Survived'])\n",
    "\n",
    "# drop ids\n",
    "\n",
    "train = train.drop(columns=['PassengerId'])\n",
    "train_noNa = train_noNa.drop(columns=['PassengerId'])\n",
    "testf = test.copy()\n",
    "testf = testf.drop(columns=['PassengerId'])\n",
    "test_noNaf = test_noNa.copy()\n",
    "test_noNaf = test_noNaf.drop(columns=['PassengerId'])"
   ]
  },
  {
   "cell_type": "markdown",
   "metadata": {},
   "source": [
    "Default RF"
   ]
  },
  {
   "cell_type": "code",
   "execution_count": 149,
   "metadata": {},
   "outputs": [],
   "source": [
    "def def_rf(train,y):\n",
    "    clf = RandomForestClassifier(random_state=0)\n",
    "    clf.fit(train, y)\n",
    "    scores = cross_val_score(clf, train, y, cv=5)\n",
    "    return clf,scores.mean()"
   ]
  },
  {
   "cell_type": "code",
   "execution_count": 150,
   "metadata": {},
   "outputs": [
    {
     "name": "stdout",
     "output_type": "stream",
     "text": [
      "0.8215680120519743\n"
     ]
    }
   ],
   "source": [
    "model_defRF,scores_defRF = def_rf(train,y)\n",
    "print(scores_defRF)"
   ]
  },
  {
   "cell_type": "code",
   "execution_count": 152,
   "metadata": {},
   "outputs": [
    {
     "name": "stdout",
     "output_type": "stream",
     "text": [
      "0.8069675475488042\n"
     ]
    }
   ],
   "source": [
    "model2_defRF,scores2_defRF = def_rf(train_noNa,y)\n",
    "print(scores2_defRF)"
   ]
  },
  {
   "cell_type": "markdown",
   "metadata": {},
   "source": [
    "Hyperparameter tuning RF"
   ]
  },
  {
   "cell_type": "code",
   "execution_count": 156,
   "metadata": {},
   "outputs": [],
   "source": [
    "def random_grid():\n",
    "    clf = RandomForestClassifier(random_state=0)\n",
    "    n_estimators = [int(x) for x in np.linspace(start=200, stop=2000, num=10)]\n",
    "    max_features = ['log2', 'sqrt', None]\n",
    "    max_depth = [int(x) for x in np.linspace(10, 110, num=11)]\n",
    "    min_samples_split = [2, 5, 10, 20]\n",
    "    min_samples_leaf = [1, 2, 4, 8]\n",
    "    min_samples_split = [2, 5, 10, 20]\n",
    "    min_samples_leaf = [1, 2, 4, 8]\n",
    "    bootstrap = [True, False] # if false the whole dataset is used to build each tree\n",
    "    random_grid = {'n_estimators': n_estimators,\n",
    "                'max_features': max_features,\n",
    "                'max_depth': max_depth,\n",
    "                'min_samples_split': min_samples_split,\n",
    "                'min_samples_leaf': min_samples_leaf,\n",
    "                'bootstrap': bootstrap}\n",
    "    return random_grid\n",
    "\n",
    "def random_search(grid,train,y):\n",
    "    clf = RandomForestClassifier(random_state=0)\n",
    "    clf_random = RandomizedSearchCV(estimator=clf, param_distributions=grid, n_iter=100, cv=3, verbose=2, random_state=0, n_jobs=-1)\n",
    "    clf_random.fit(train, y)\n",
    "    return clf_random.best_params_,clf_random.best_score_\n",
    "\n",
    "# function that trains with best parameters\n",
    "\n",
    "def best_rf(best_params,train,y):\n",
    "    n_estimators = best_params['n_estimators']\n",
    "    max_depth = best_params['max_depth']\n",
    "    min_samples_split = best_params['min_samples_split']\n",
    "    min_samples_leaf = best_params['min_samples_leaf']\n",
    "    max_features = best_params['max_features']\n",
    "    bootstrap = best_params['bootstrap']\n",
    "\n",
    "    clf = RandomForestClassifier(n_estimators=n_estimators, max_depth=max_depth, min_samples_split=min_samples_split, min_samples_leaf=min_samples_leaf, max_features=max_features, bootstrap=bootstrap, random_state=0)\n",
    "    clf.fit(train, y)\n",
    "\n",
    "    scores = cross_val_score(clf, train, y, cv=8)\n",
    "\n",
    "    return clf,scores.mean()\n",
    "\n",
    "def randompredict(clf,test,OGtest):\n",
    "    pred = clf.predict(test)\n",
    "    final_preds = np.column_stack((np.array(OGtest['PassengerId']), np.array(pred)))  \n",
    "    print(final_preds.shape)\n",
    "    return final_preds\n",
    "        "
   ]
  },
  {
   "cell_type": "code",
   "execution_count": 88,
   "metadata": {},
   "outputs": [
    {
     "name": "stdout",
     "output_type": "stream",
     "text": [
      "Fitting 3 folds for each of 100 candidates, totalling 300 fits\n",
      "({'n_estimators': 600, 'min_samples_split': 5, 'min_samples_leaf': 1, 'max_features': None, 'max_depth': 60, 'bootstrap': True}, 0.8316498316498316)\n"
     ]
    }
   ],
   "source": [
    "grid = random_grid()\n",
    "search = random_search(grid,train,y)\n",
    "print(search)"
   ]
  },
  {
   "cell_type": "code",
   "execution_count": 89,
   "metadata": {},
   "outputs": [
    {
     "name": "stdout",
     "output_type": "stream",
     "text": [
      "0.8316678174628084\n"
     ]
    }
   ],
   "source": [
    "best_randommodel = best_rf(search[0],train,y)\n",
    "print(best_randommodel[1])"
   ]
  },
  {
   "cell_type": "code",
   "execution_count": 113,
   "metadata": {},
   "outputs": [
    {
     "name": "stdout",
     "output_type": "stream",
     "text": [
      "(418, 2)\n"
     ]
    }
   ],
   "source": [
    "preds = randompredict(best_randommodel[0],testf,test)\n",
    "np.savetxt('titanicpreds.csv', preds, delimiter=',', fmt='%i', header='PassengerId,Survived', comments='') #got 0.77990 (lower)"
   ]
  },
  {
   "cell_type": "code",
   "execution_count": 153,
   "metadata": {},
   "outputs": [
    {
     "name": "stdout",
     "output_type": "stream",
     "text": [
      "Fitting 3 folds for each of 100 candidates, totalling 300 fits\n",
      "({'n_estimators': 1200, 'min_samples_split': 5, 'min_samples_leaf': 4, 'max_features': None, 'max_depth': 100, 'bootstrap': True}, 0.8439955106621774)\n",
      "0.8383968363567886\n"
     ]
    }
   ],
   "source": [
    "# do the same for no NA\n",
    "\n",
    "grid2 = random_grid()\n",
    "search2 = random_search(grid2,train_noNa,y)\n",
    "print(search2)\n",
    "\n",
    "best_randommodel2 = best_rf(search2[0],train_noNa,y)\n",
    "print(best_randommodel2[1])"
   ]
  },
  {
   "cell_type": "code",
   "execution_count": 155,
   "metadata": {},
   "outputs": [
    {
     "name": "stdout",
     "output_type": "stream",
     "text": [
      "(418, 2)\n"
     ]
    }
   ],
   "source": [
    "predsnona = randompredict(best_randommodel2[0],test_noNaf,test_noNa)\n",
    "np.savetxt('titanicpredsnona.csv', predsnona, delimiter=',', fmt='%i', header='PassengerId,Survived', comments='') "
   ]
  },
  {
   "cell_type": "markdown",
   "metadata": {},
   "source": [
    "Using GridSearch based on the RandomSearch results"
   ]
  },
  {
   "cell_type": "code",
   "execution_count": 114,
   "metadata": {},
   "outputs": [],
   "source": [
    "# manually build grid\n",
    "\n",
    "param_grid = {'n_estimators': [500, 600, 700],\n",
    "                'max_features': [None],\n",
    "                'max_depth': [50, 60, 70],\n",
    "                'min_samples_split': [4, 5, 6],\n",
    "                'min_samples_leaf': [1, 2, 3],\n",
    "                'bootstrap': [True]} \n"
   ]
  },
  {
   "cell_type": "code",
   "execution_count": 119,
   "metadata": {},
   "outputs": [],
   "source": [
    "def gridsearch(grid,train,y):\n",
    "    clf = RandomForestClassifier(random_state=0)\n",
    "    clf_grid = GridSearchCV(estimator=clf, param_grid=grid, cv=3, verbose=2, n_jobs=-1)\n",
    "    clf_grid.fit(train, y)\n",
    "    return clf_grid.best_params_,clf_grid.best_score_\n",
    "\n",
    "def gridsearch_best(best_params,train,y):\n",
    "    n_estimators = best_params['n_estimators']\n",
    "    max_depth = best_params['max_depth']\n",
    "    min_samples_split = best_params['min_samples_split']\n",
    "    min_samples_leaf = best_params['min_samples_leaf']\n",
    "    max_features = best_params['max_features']\n",
    "    bootstrap = best_params['bootstrap']\n",
    "\n",
    "    clf = RandomForestClassifier(n_estimators=n_estimators, max_depth=max_depth, min_samples_split=min_samples_split, min_samples_leaf=min_samples_leaf, max_features=max_features, bootstrap=bootstrap, random_state=0)\n",
    "    clf.fit(train, y)\n",
    "\n",
    "    scores = cross_val_score(clf, train, y, cv=5)\n",
    "\n",
    "    return clf,scores.mean() \n",
    "\n",
    "def gridpredict(clf,test,OGtest):\n",
    "    pred = clf.predict(test)\n",
    "    final_preds = np.column_stack((np.array(OGtest['PassengerId']), np.array(pred)))  \n",
    "    print(final_preds.shape)\n",
    "    return final_preds  "
   ]
  },
  {
   "cell_type": "code",
   "execution_count": 116,
   "metadata": {},
   "outputs": [
    {
     "name": "stdout",
     "output_type": "stream",
     "text": [
      "Fitting 3 folds for each of 81 candidates, totalling 243 fits\n",
      "({'bootstrap': True, 'max_depth': 50, 'max_features': None, 'min_samples_leaf': 1, 'min_samples_split': 6, 'n_estimators': 700}, 0.8338945005611672)\n"
     ]
    }
   ],
   "source": [
    "allsearch = gridsearch(param_grid,train,y)\n",
    "print(allsearch)"
   ]
  },
  {
   "cell_type": "code",
   "execution_count": 157,
   "metadata": {},
   "outputs": [
    {
     "name": "stdout",
     "output_type": "stream",
     "text": [
      "0.8294206264515724\n"
     ]
    }
   ],
   "source": [
    "best_gridmodel = gridsearch_best(allsearch[0],train,y)\n",
    "print(best_gridmodel[1])"
   ]
  },
  {
   "cell_type": "code",
   "execution_count": 132,
   "metadata": {},
   "outputs": [
    {
     "name": "stdout",
     "output_type": "stream",
     "text": [
      "(418, 2)\n"
     ]
    }
   ],
   "source": [
    "predsgrid = gridpredict(best_gridmodel[0],testf,test)\n",
    "np.savetxt('titanicpredsgrid.csv', predsgrid, delimiter=',', fmt='%i', header='PassengerId,Survived', comments='') "
   ]
  },
  {
   "cell_type": "markdown",
   "metadata": {},
   "source": [
    "alternative"
   ]
  },
  {
   "cell_type": "code",
   "execution_count": 219,
   "metadata": {},
   "outputs": [],
   "source": [
    "# create parameter grid based on the random search results\n",
    "\n",
    "param_grid = {'n_estimators': [400,500, 600, 700,800],\n",
    "                'max_features': ['log2'],\n",
    "                'max_depth': [40,50, 60, 70, 80, 90],\n",
    "                'min_samples_split': [3, 4, 5, 6, 7],\n",
    "                'min_samples_leaf': [1, 2, 3, 4],\n",
    "                'bootstrap': [True]}\n",
    "\n",
    "rf = RandomForestClassifier()\n",
    "\n",
    "model_gridRF = GridSearchCV(estimator=rf, param_grid=param_grid, cv=3, n_jobs=-1, verbose=2)\n"
   ]
  },
  {
   "cell_type": "code",
   "execution_count": 220,
   "metadata": {},
   "outputs": [
    {
     "name": "stdout",
     "output_type": "stream",
     "text": [
      "Fitting 3 folds for each of 600 candidates, totalling 1800 fits\n"
     ]
    },
    {
     "data": {
      "text/plain": [
       "0.8383838383838383"
      ]
     },
     "execution_count": 220,
     "metadata": {},
     "output_type": "execute_result"
    }
   ],
   "source": [
    "model_gridRF.fit(train, y)\n",
    "model_gridRF.best_params_\n",
    "model_gridRF.best_score_"
   ]
  },
  {
   "cell_type": "code",
   "execution_count": 221,
   "metadata": {},
   "outputs": [
    {
     "name": "stdout",
     "output_type": "stream",
     "text": [
      "{'bootstrap': True, 'max_depth': 40, 'max_features': 'log2', 'min_samples_leaf': 1, 'min_samples_split': 3, 'n_estimators': 700}\n"
     ]
    }
   ],
   "source": [
    "# print best hyperparameters\n",
    "\n",
    "print(model_gridRF.best_params_)\n",
    "\n"
   ]
  },
  {
   "cell_type": "code",
   "execution_count": 129,
   "metadata": {},
   "outputs": [],
   "source": [
    "best_grid = {'n_estimators': 700,\n",
    "                'max_features': 'log2',\n",
    "                'max_depth': 40,\n",
    "                'min_samples_split': 3,\n",
    "                'min_samples_leaf': 1,\n",
    "                'bootstrap': True}"
   ]
  },
  {
   "cell_type": "code",
   "execution_count": 131,
   "metadata": {},
   "outputs": [
    {
     "name": "stdout",
     "output_type": "stream",
     "text": [
      "0.8226978846274559\n",
      "(418, 2)\n"
     ]
    }
   ],
   "source": [
    "# train with best grid\n",
    "\n",
    "best_gridmodel = best_rf(best_grid,train,y)\n",
    "print(best_gridmodel[1])\n",
    "\n",
    "# predict with best grid\n",
    "\n",
    "predsgrid2 = gridpredict(best_gridmodel[0],testf,test)\n",
    "np.savetxt('titanicpredsgrid2.csv', predsgrid2, delimiter=',', fmt='%i', header='PassengerId,Survived', comments='')"
   ]
  },
  {
   "cell_type": "code",
   "execution_count": 223,
   "metadata": {},
   "outputs": [
    {
     "name": "stdout",
     "output_type": "stream",
     "text": [
      "Mean cross-validation score: 0.80\n"
     ]
    }
   ],
   "source": [
    "# train with best\n",
    "\n",
    "model_bestgridRF = RandomForestClassifier(n_estimators=700, min_samples_split=3, min_samples_leaf=1, max_features='log2', max_depth=40, bootstrap=True, random_state=0)\n",
    "model_bestgridRF.fit(train, y)\n",
    "\n",
    "# cross validation\n",
    "\n",
    "scores = cross_val_score(model_bestgridRF, train, y, cv=5)\n",
    "print(\"Mean cross-validation score: %.2f\" % scores.mean())"
   ]
  },
  {
   "cell_type": "markdown",
   "metadata": {},
   "source": [
    "best pred so far"
   ]
  },
  {
   "cell_type": "code",
   "execution_count": 231,
   "metadata": {},
   "outputs": [
    {
     "name": "stdout",
     "output_type": "stream",
     "text": [
      "(418, 9)\n",
      "(418,)\n",
      "(418, 2)\n"
     ]
    }
   ],
   "source": [
    "#predict\n",
    "\n",
    "predictions = model_gridRF.predict(test)\n",
    "print(test.shape)\n",
    "print(predictions.shape)\n",
    "\n",
    "final_preds = np.column_stack((np.array(test['PassengerId']), np.array(predictions)))  \n",
    "print(final_preds.shape)\n",
    "\n",
    "# final preds to csv\n",
    "\n",
    "np.savetxt('final_preds.csv', final_preds, delimiter=',', fmt='%s', header='PassengerId,Survived', comments='') # got 0.79425"
   ]
  },
  {
   "cell_type": "markdown",
   "metadata": {},
   "source": [
    "## Using HistGradientBoostingClassifier"
   ]
  },
  {
   "cell_type": "code",
   "execution_count": 158,
   "metadata": {},
   "outputs": [],
   "source": [
    "# train test split\n",
    "\n",
    "from sklearn.model_selection import train_test_split\n",
    "\n",
    "X_train, X_test, y_train, y_test = train_test_split(train, y, test_size=0.2, random_state=0)\n",
    "\n",
    "# no NA\n",
    "\n",
    "X_trainnoNa, X_testnoNa, y_trainnoNa, y_testnoNa = train_test_split(train_noNa, y, test_size=0.2, random_state=0)"
   ]
  },
  {
   "cell_type": "code",
   "execution_count": 159,
   "metadata": {},
   "outputs": [
    {
     "name": "stderr",
     "output_type": "stream",
     "text": [
      "c:\\Users\\beama\\OneDrive\\Documents\\personal projects\\ppvenv\\Lib\\site-packages\\sklearn\\experimental\\enable_hist_gradient_boosting.py:15: UserWarning: Since version 1.0, it is not needed to import enable_hist_gradient_boosting anymore. HistGradientBoostingClassifier and HistGradientBoostingRegressor are now stable and can be normally imported from sklearn.ensemble.\n",
      "  warnings.warn(\n"
     ]
    },
    {
     "name": "stdout",
     "output_type": "stream",
     "text": [
      "Binning 0.000 GB of training data: 0.007 s\n",
      "Binning 0.000 GB of validation data: 0.000 s\n",
      "Fitting gradient boosted rounds:\n",
      "[1/1000] 1 tree, 24 leaves, max depth = 7, train loss: 0.61628, val loss: 0.63128, in 0.026s\n",
      "[2/1000] 1 tree, 25 leaves, max depth = 8, train loss: 0.57672, val loss: 0.60408, in 0.006s\n",
      "[3/1000] 1 tree, 25 leaves, max depth = 8, train loss: 0.54419, val loss: 0.58151, in 0.003s\n",
      "[4/1000] 1 tree, 25 leaves, max depth = 8, train loss: 0.51696, val loss: 0.56378, in 0.003s\n",
      "[5/1000] 1 tree, 25 leaves, max depth = 8, train loss: 0.49365, val loss: 0.54959, in 0.009s\n",
      "[6/1000] 1 tree, 24 leaves, max depth = 8, train loss: 0.47423, val loss: 0.53835, in 0.006s\n",
      "[7/1000] 1 tree, 25 leaves, max depth = 7, train loss: 0.45655, val loss: 0.52546, in 0.004s\n",
      "[8/1000] 1 tree, 25 leaves, max depth = 8, train loss: 0.44083, val loss: 0.51441, in 0.007s\n",
      "[9/1000] 1 tree, 23 leaves, max depth = 7, train loss: 0.42741, val loss: 0.50541, in 0.005s\n",
      "[10/1000] 1 tree, 24 leaves, max depth = 8, train loss: 0.41543, val loss: 0.49792, in 0.003s\n",
      "[11/1000] 1 tree, 24 leaves, max depth = 8, train loss: 0.40510, val loss: 0.49169, in 0.009s\n",
      "[12/1000] 1 tree, 25 leaves, max depth = 11, train loss: 0.39534, val loss: 0.48559, in 0.006s\n",
      "[13/1000] 1 tree, 22 leaves, max depth = 9, train loss: 0.38665, val loss: 0.48175, in 0.017s\n",
      "[14/1000] 1 tree, 24 leaves, max depth = 8, train loss: 0.37919, val loss: 0.47830, in 0.011s\n",
      "[15/1000] 1 tree, 25 leaves, max depth = 10, train loss: 0.37092, val loss: 0.47399, in 0.005s\n",
      "[16/1000] 1 tree, 23 leaves, max depth = 10, train loss: 0.36384, val loss: 0.46875, in 0.013s\n",
      "[17/1000] 1 tree, 24 leaves, max depth = 10, train loss: 0.35766, val loss: 0.46443, in 0.005s\n",
      "[18/1000] 1 tree, 25 leaves, max depth = 9, train loss: 0.35204, val loss: 0.46201, in 0.005s\n",
      "[19/1000] 1 tree, 23 leaves, max depth = 10, train loss: 0.34692, val loss: 0.45741, in 0.009s\n",
      "[20/1000] 1 tree, 24 leaves, max depth = 12, train loss: 0.34237, val loss: 0.45852, in 0.027s\n",
      "[21/1000] 1 tree, 25 leaves, max depth = 13, train loss: 0.33789, val loss: 0.45792, in 0.013s\n",
      "[22/1000] 1 tree, 22 leaves, max depth = 10, train loss: 0.33317, val loss: 0.45433, in 0.003s\n",
      "[23/1000] 1 tree, 26 leaves, max depth = 11, train loss: 0.32853, val loss: 0.44850, in 0.044s\n",
      "[24/1000] 1 tree, 24 leaves, max depth = 10, train loss: 0.32457, val loss: 0.44513, in 0.003s\n",
      "[25/1000] 1 tree, 24 leaves, max depth = 11, train loss: 0.32060, val loss: 0.44292, in 0.002s\n",
      "[26/1000] 1 tree, 25 leaves, max depth = 11, train loss: 0.31635, val loss: 0.44171, in 0.006s\n",
      "[27/1000] 1 tree, 25 leaves, max depth = 10, train loss: 0.31304, val loss: 0.43862, in 0.005s\n",
      "[28/1000] 1 tree, 26 leaves, max depth = 12, train loss: 0.30725, val loss: 0.43718, in 0.003s\n",
      "[29/1000] 1 tree, 25 leaves, max depth = 8, train loss: 0.30139, val loss: 0.43778, in 0.003s\n",
      "[30/1000] 1 tree, 24 leaves, max depth = 8, train loss: 0.29619, val loss: 0.43865, in 0.014s\n",
      "[31/1000] 1 tree, 25 leaves, max depth = 14, train loss: 0.29193, val loss: 0.43832, in 0.013s\n",
      "[32/1000] 1 tree, 23 leaves, max depth = 7, train loss: 0.28775, val loss: 0.43888, in 0.003s\n",
      "[33/1000] 1 tree, 25 leaves, max depth = 12, train loss: 0.28318, val loss: 0.43413, in 0.007s\n",
      "[34/1000] 1 tree, 26 leaves, max depth = 12, train loss: 0.27906, val loss: 0.43115, in 0.011s\n",
      "[35/1000] 1 tree, 24 leaves, max depth = 10, train loss: 0.27512, val loss: 0.42853, in 0.011s\n",
      "[36/1000] 1 tree, 23 leaves, max depth = 11, train loss: 0.27224, val loss: 0.42774, in 0.007s\n",
      "[37/1000] 1 tree, 26 leaves, max depth = 11, train loss: 0.26840, val loss: 0.42708, in 0.011s\n",
      "[38/1000] 1 tree, 26 leaves, max depth = 9, train loss: 0.26502, val loss: 0.42843, in 0.005s\n",
      "[39/1000] 1 tree, 25 leaves, max depth = 11, train loss: 0.26122, val loss: 0.42564, in 0.025s\n",
      "[40/1000] 1 tree, 24 leaves, max depth = 11, train loss: 0.25758, val loss: 0.42455, in 0.004s\n",
      "[41/1000] 1 tree, 26 leaves, max depth = 12, train loss: 0.25508, val loss: 0.42230, in 0.003s\n",
      "[42/1000] 1 tree, 23 leaves, max depth = 13, train loss: 0.25253, val loss: 0.42134, in 0.008s\n",
      "[43/1000] 1 tree, 26 leaves, max depth = 9, train loss: 0.24951, val loss: 0.42504, in 0.007s\n",
      "[44/1000] 1 tree, 26 leaves, max depth = 11, train loss: 0.24733, val loss: 0.42589, in 0.009s\n",
      "[45/1000] 1 tree, 24 leaves, max depth = 12, train loss: 0.24417, val loss: 0.42582, in 0.005s\n",
      "[46/1000] 1 tree, 24 leaves, max depth = 12, train loss: 0.24155, val loss: 0.42692, in 0.011s\n",
      "Fit 46 trees in 0.798 s, (1126 total leaves)\n",
      "Time spent computing histograms: 0.072s\n",
      "Time spent finding best splits:  0.039s\n",
      "Time spent applying splits:      0.052s\n",
      "Time spent predicting:           0.004s\n",
      "Validation accuracy:  0.8435754189944135\n",
      "Binning 0.000 GB of training data: 0.001 s\n",
      "Binning 0.000 GB of validation data: 0.000 s\n",
      "Fitting gradient boosted rounds:\n",
      "[1/1000] 1 tree, 24 leaves, max depth = 7, train loss: 0.61611, val loss: 0.62058, in 0.006s\n",
      "[2/1000] 1 tree, 24 leaves, max depth = 7, train loss: 0.57625, val loss: 0.58245, in 0.007s\n",
      "[3/1000] 1 tree, 26 leaves, max depth = 7, train loss: 0.54348, val loss: 0.54993, in 0.003s\n",
      "[4/1000] 1 tree, 25 leaves, max depth = 8, train loss: 0.51575, val loss: 0.52307, in 0.008s\n",
      "[5/1000] 1 tree, 25 leaves, max depth = 8, train loss: 0.49229, val loss: 0.50018, in 0.004s\n",
      "[6/1000] 1 tree, 27 leaves, max depth = 8, train loss: 0.47229, val loss: 0.48203, in 0.003s\n",
      "[7/1000] 1 tree, 25 leaves, max depth = 7, train loss: 0.45487, val loss: 0.46690, in 0.010s\n",
      "[8/1000] 1 tree, 26 leaves, max depth = 9, train loss: 0.43955, val loss: 0.45310, in 0.005s\n",
      "[9/1000] 1 tree, 24 leaves, max depth = 7, train loss: 0.42647, val loss: 0.44082, in 0.033s\n",
      "[10/1000] 1 tree, 25 leaves, max depth = 7, train loss: 0.41452, val loss: 0.42970, in 0.016s\n",
      "[11/1000] 1 tree, 26 leaves, max depth = 7, train loss: 0.40328, val loss: 0.41937, in 0.015s\n",
      "[12/1000] 1 tree, 24 leaves, max depth = 8, train loss: 0.39342, val loss: 0.41053, in 0.019s\n",
      "[13/1000] 1 tree, 25 leaves, max depth = 8, train loss: 0.38403, val loss: 0.40332, in 0.015s\n",
      "[14/1000] 1 tree, 26 leaves, max depth = 7, train loss: 0.37644, val loss: 0.39785, in 0.035s\n",
      "[15/1000] 1 tree, 27 leaves, max depth = 8, train loss: 0.36898, val loss: 0.39229, in 0.013s\n",
      "[16/1000] 1 tree, 25 leaves, max depth = 9, train loss: 0.36234, val loss: 0.38734, in 0.020s\n",
      "[17/1000] 1 tree, 25 leaves, max depth = 9, train loss: 0.35629, val loss: 0.38310, in 0.008s\n",
      "[18/1000] 1 tree, 23 leaves, max depth = 8, train loss: 0.35089, val loss: 0.37768, in 0.013s\n",
      "[19/1000] 1 tree, 24 leaves, max depth = 8, train loss: 0.34601, val loss: 0.37302, in 0.015s\n",
      "[20/1000] 1 tree, 25 leaves, max depth = 10, train loss: 0.34111, val loss: 0.36967, in 0.010s\n",
      "[21/1000] 1 tree, 24 leaves, max depth = 10, train loss: 0.33484, val loss: 0.36797, in 0.005s\n",
      "[22/1000] 1 tree, 25 leaves, max depth = 10, train loss: 0.32915, val loss: 0.36111, in 0.009s\n",
      "[23/1000] 1 tree, 25 leaves, max depth = 10, train loss: 0.32444, val loss: 0.36160, in 0.005s\n",
      "[24/1000] 1 tree, 25 leaves, max depth = 10, train loss: 0.32000, val loss: 0.35677, in 0.015s\n",
      "[25/1000] 1 tree, 24 leaves, max depth = 11, train loss: 0.31484, val loss: 0.35390, in 0.014s\n",
      "[26/1000] 1 tree, 25 leaves, max depth = 10, train loss: 0.31085, val loss: 0.35467, in 0.012s\n",
      "[27/1000] 1 tree, 24 leaves, max depth = 10, train loss: 0.30694, val loss: 0.35350, in 0.003s\n",
      "[28/1000] 1 tree, 25 leaves, max depth = 10, train loss: 0.30262, val loss: 0.35481, in 0.004s\n",
      "[29/1000] 1 tree, 25 leaves, max depth = 10, train loss: 0.29722, val loss: 0.35118, in 0.014s\n",
      "[30/1000] 1 tree, 25 leaves, max depth = 9, train loss: 0.29316, val loss: 0.35171, in 0.010s\n",
      "[31/1000] 1 tree, 25 leaves, max depth = 10, train loss: 0.28781, val loss: 0.34919, in 0.005s\n",
      "[32/1000] 1 tree, 23 leaves, max depth = 10, train loss: 0.28333, val loss: 0.35050, in 0.003s\n",
      "[33/1000] 1 tree, 24 leaves, max depth = 10, train loss: 0.27902, val loss: 0.35148, in 0.028s\n",
      "[34/1000] 1 tree, 25 leaves, max depth = 12, train loss: 0.27489, val loss: 0.35274, in 0.035s\n",
      "[35/1000] 1 tree, 26 leaves, max depth = 15, train loss: 0.27079, val loss: 0.35565, in 0.034s\n",
      "[36/1000] 1 tree, 25 leaves, max depth = 11, train loss: 0.26750, val loss: 0.35236, in 0.031s\n",
      "Fit 36 trees in 0.521 s, (896 total leaves)\n",
      "Time spent computing histograms: 0.108s\n",
      "Time spent finding best splits:  0.065s\n",
      "Time spent applying splits:      0.112s\n",
      "Time spent predicting:           0.010s\n",
      "Binning 0.000 GB of training data: 0.002 s\n",
      "Binning 0.000 GB of validation data: 0.001 s\n",
      "Fitting gradient boosted rounds:\n",
      "[1/1000] 1 tree, 22 leaves, max depth = 7, train loss: 0.61340, val loss: 0.62355, in 0.014s\n",
      "[2/1000] 1 tree, 23 leaves, max depth = 7, train loss: 0.57139, val loss: 0.58840, in 0.021s\n",
      "[3/1000] 1 tree, 23 leaves, max depth = 7, train loss: 0.53619, val loss: 0.56258, in 0.009s\n",
      "[4/1000] 1 tree, 26 leaves, max depth = 9, train loss: 0.50676, val loss: 0.53718, in 0.010s\n",
      "[5/1000] 1 tree, 24 leaves, max depth = 9, train loss: 0.48151, val loss: 0.51907, in 0.008s\n",
      "[6/1000] 1 tree, 25 leaves, max depth = 9, train loss: 0.45947, val loss: 0.50347, in 0.015s\n",
      "[7/1000] 1 tree, 25 leaves, max depth = 9, train loss: 0.44065, val loss: 0.48792, in 0.015s\n",
      "[8/1000] 1 tree, 24 leaves, max depth = 8, train loss: 0.42446, val loss: 0.47727, in 0.005s\n",
      "[9/1000] 1 tree, 22 leaves, max depth = 9, train loss: 0.41058, val loss: 0.46813, in 0.016s\n",
      "[10/1000] 1 tree, 25 leaves, max depth = 8, train loss: 0.39775, val loss: 0.46260, in 0.006s\n",
      "[11/1000] 1 tree, 23 leaves, max depth = 10, train loss: 0.38670, val loss: 0.45520, in 0.007s\n",
      "[12/1000] 1 tree, 25 leaves, max depth = 8, train loss: 0.37679, val loss: 0.45153, in 0.005s\n",
      "[13/1000] 1 tree, 25 leaves, max depth = 8, train loss: 0.36700, val loss: 0.44311, in 0.005s\n",
      "[14/1000] 1 tree, 24 leaves, max depth = 10, train loss: 0.35842, val loss: 0.43971, in 0.004s\n",
      "[15/1000] 1 tree, 24 leaves, max depth = 10, train loss: 0.35078, val loss: 0.43641, in 0.009s\n",
      "[16/1000] 1 tree, 24 leaves, max depth = 10, train loss: 0.34407, val loss: 0.43553, in 0.003s\n",
      "[17/1000] 1 tree, 23 leaves, max depth = 10, train loss: 0.33665, val loss: 0.43191, in 0.003s\n",
      "[18/1000] 1 tree, 22 leaves, max depth = 10, train loss: 0.33043, val loss: 0.43103, in 0.003s\n",
      "[19/1000] 1 tree, 23 leaves, max depth = 7, train loss: 0.32455, val loss: 0.42884, in 0.011s\n",
      "[20/1000] 1 tree, 23 leaves, max depth = 8, train loss: 0.31997, val loss: 0.42826, in 0.003s\n",
      "[21/1000] 1 tree, 25 leaves, max depth = 12, train loss: 0.31467, val loss: 0.42523, in 0.004s\n",
      "[22/1000] 1 tree, 23 leaves, max depth = 9, train loss: 0.30981, val loss: 0.42677, in 0.006s\n",
      "[23/1000] 1 tree, 25 leaves, max depth = 9, train loss: 0.30516, val loss: 0.42775, in 0.003s\n",
      "[24/1000] 1 tree, 24 leaves, max depth = 12, train loss: 0.30079, val loss: 0.42787, in 0.003s\n",
      "[25/1000] 1 tree, 24 leaves, max depth = 9, train loss: 0.29656, val loss: 0.42612, in 0.029s\n",
      "[26/1000] 1 tree, 24 leaves, max depth = 10, train loss: 0.29322, val loss: 0.42304, in 0.019s\n",
      "[27/1000] 1 tree, 26 leaves, max depth = 8, train loss: 0.28767, val loss: 0.41882, in 0.004s\n",
      "[28/1000] 1 tree, 26 leaves, max depth = 10, train loss: 0.28308, val loss: 0.42187, in 0.006s\n",
      "[29/1000] 1 tree, 23 leaves, max depth = 13, train loss: 0.27976, val loss: 0.41828, in 0.003s\n",
      "[30/1000] 1 tree, 24 leaves, max depth = 10, train loss: 0.27485, val loss: 0.41260, in 0.003s\n",
      "[31/1000] 1 tree, 24 leaves, max depth = 10, train loss: 0.27088, val loss: 0.41592, in 0.010s\n",
      "[32/1000] 1 tree, 23 leaves, max depth = 13, train loss: 0.26824, val loss: 0.41433, in 0.003s\n",
      "[33/1000] 1 tree, 25 leaves, max depth = 10, train loss: 0.26358, val loss: 0.41266, in 0.003s\n",
      "[34/1000] 1 tree, 23 leaves, max depth = 11, train loss: 0.25973, val loss: 0.41297, in 0.011s\n",
      "[35/1000] 1 tree, 24 leaves, max depth = 12, train loss: 0.25734, val loss: 0.41379, in 0.003s\n",
      "Fit 35 trees in 0.327 s, (838 total leaves)\n",
      "Time spent computing histograms: 0.043s\n",
      "Time spent finding best splits:  0.025s\n",
      "Time spent applying splits:      0.034s\n",
      "Time spent predicting:           0.001s\n",
      "Binning 0.000 GB of training data: 0.002 s\n",
      "Binning 0.000 GB of validation data: 0.000 s\n",
      "Fitting gradient boosted rounds:\n",
      "[1/1000] 1 tree, 23 leaves, max depth = 7, train loss: 0.61655, val loss: 0.63071, in 0.005s\n",
      "[2/1000] 1 tree, 24 leaves, max depth = 7, train loss: 0.57664, val loss: 0.60222, in 0.005s\n",
      "[3/1000] 1 tree, 24 leaves, max depth = 7, train loss: 0.54386, val loss: 0.57948, in 0.003s\n",
      "[4/1000] 1 tree, 24 leaves, max depth = 8, train loss: 0.51638, val loss: 0.56141, in 0.003s\n",
      "[5/1000] 1 tree, 25 leaves, max depth = 8, train loss: 0.49288, val loss: 0.54836, in 0.012s\n",
      "[6/1000] 1 tree, 24 leaves, max depth = 8, train loss: 0.47301, val loss: 0.53660, in 0.003s\n",
      "[7/1000] 1 tree, 26 leaves, max depth = 8, train loss: 0.45555, val loss: 0.52895, in 0.010s\n",
      "[8/1000] 1 tree, 24 leaves, max depth = 8, train loss: 0.44036, val loss: 0.52190, in 0.007s\n",
      "[9/1000] 1 tree, 24 leaves, max depth = 8, train loss: 0.42724, val loss: 0.51708, in 0.011s\n",
      "[10/1000] 1 tree, 26 leaves, max depth = 8, train loss: 0.41574, val loss: 0.51292, in 0.014s\n",
      "[11/1000] 1 tree, 24 leaves, max depth = 8, train loss: 0.40557, val loss: 0.51056, in 0.013s\n",
      "[12/1000] 1 tree, 25 leaves, max depth = 8, train loss: 0.39654, val loss: 0.50853, in 0.016s\n",
      "[13/1000] 1 tree, 26 leaves, max depth = 9, train loss: 0.38780, val loss: 0.50499, in 0.018s\n",
      "[14/1000] 1 tree, 25 leaves, max depth = 9, train loss: 0.37973, val loss: 0.49807, in 0.006s\n",
      "[15/1000] 1 tree, 25 leaves, max depth = 9, train loss: 0.37321, val loss: 0.49763, in 0.010s\n",
      "[16/1000] 1 tree, 25 leaves, max depth = 7, train loss: 0.36637, val loss: 0.49342, in 0.004s\n",
      "[17/1000] 1 tree, 25 leaves, max depth = 8, train loss: 0.35974, val loss: 0.49258, in 0.010s\n",
      "[18/1000] 1 tree, 26 leaves, max depth = 8, train loss: 0.35400, val loss: 0.48663, in 0.006s\n",
      "[19/1000] 1 tree, 24 leaves, max depth = 10, train loss: 0.34770, val loss: 0.48692, in 0.010s\n",
      "[20/1000] 1 tree, 23 leaves, max depth = 11, train loss: 0.34230, val loss: 0.48981, in 0.005s\n",
      "[21/1000] 1 tree, 24 leaves, max depth = 10, train loss: 0.33708, val loss: 0.49053, in 0.012s\n",
      "[22/1000] 1 tree, 26 leaves, max depth = 12, train loss: 0.33129, val loss: 0.48956, in 0.006s\n",
      "[23/1000] 1 tree, 25 leaves, max depth = 10, train loss: 0.32642, val loss: 0.49074, in 0.011s\n",
      "Fit 23 trees in 0.219 s, (567 total leaves)\n",
      "Time spent computing histograms: 0.046s\n",
      "Time spent finding best splits:  0.031s\n",
      "Time spent applying splits:      0.041s\n",
      "Time spent predicting:           0.001s\n",
      "Binning 0.000 GB of training data: 0.002 s\n",
      "Binning 0.000 GB of validation data: 0.000 s\n",
      "Fitting gradient boosted rounds:\n",
      "[1/1000] 1 tree, 24 leaves, max depth = 8, train loss: 0.61982, val loss: 0.61674, in 0.013s\n",
      "[2/1000] 1 tree, 25 leaves, max depth = 8, train loss: 0.58306, val loss: 0.57650, in 0.011s\n",
      "[3/1000] 1 tree, 25 leaves, max depth = 9, train loss: 0.55247, val loss: 0.54617, in 0.019s\n",
      "[4/1000] 1 tree, 23 leaves, max depth = 10, train loss: 0.52631, val loss: 0.51907, in 0.005s\n",
      "[5/1000] 1 tree, 25 leaves, max depth = 8, train loss: 0.50453, val loss: 0.49687, in 0.008s\n",
      "[6/1000] 1 tree, 26 leaves, max depth = 8, train loss: 0.48381, val loss: 0.47926, in 0.005s\n",
      "[7/1000] 1 tree, 23 leaves, max depth = 10, train loss: 0.46733, val loss: 0.46343, in 0.003s\n",
      "[8/1000] 1 tree, 25 leaves, max depth = 11, train loss: 0.45274, val loss: 0.44742, in 0.008s\n",
      "[9/1000] 1 tree, 25 leaves, max depth = 9, train loss: 0.43967, val loss: 0.43531, in 0.005s\n",
      "[10/1000] 1 tree, 25 leaves, max depth = 11, train loss: 0.42525, val loss: 0.42374, in 0.004s\n",
      "[11/1000] 1 tree, 25 leaves, max depth = 10, train loss: 0.41238, val loss: 0.41392, in 0.010s\n",
      "[12/1000] 1 tree, 26 leaves, max depth = 12, train loss: 0.40062, val loss: 0.40258, in 0.004s\n",
      "[13/1000] 1 tree, 25 leaves, max depth = 10, train loss: 0.39087, val loss: 0.39571, in 0.012s\n",
      "[14/1000] 1 tree, 23 leaves, max depth = 8, train loss: 0.38118, val loss: 0.38819, in 0.005s\n",
      "[15/1000] 1 tree, 22 leaves, max depth = 10, train loss: 0.37286, val loss: 0.38271, in 0.007s\n",
      "[16/1000] 1 tree, 24 leaves, max depth = 10, train loss: 0.36624, val loss: 0.37935, in 0.004s\n",
      "[17/1000] 1 tree, 25 leaves, max depth = 11, train loss: 0.35869, val loss: 0.37407, in 0.003s\n",
      "[18/1000] 1 tree, 24 leaves, max depth = 11, train loss: 0.35254, val loss: 0.37211, in 0.003s\n",
      "[19/1000] 1 tree, 26 leaves, max depth = 9, train loss: 0.34607, val loss: 0.36930, in 0.010s\n",
      "[20/1000] 1 tree, 25 leaves, max depth = 11, train loss: 0.34063, val loss: 0.36653, in 0.004s\n",
      "[21/1000] 1 tree, 23 leaves, max depth = 10, train loss: 0.33599, val loss: 0.36695, in 0.004s\n",
      "[22/1000] 1 tree, 25 leaves, max depth = 10, train loss: 0.33149, val loss: 0.36325, in 0.006s\n",
      "[23/1000] 1 tree, 24 leaves, max depth = 11, train loss: 0.32734, val loss: 0.36235, in 0.003s\n",
      "[24/1000] 1 tree, 24 leaves, max depth = 8, train loss: 0.32187, val loss: 0.35735, in 0.004s\n",
      "[25/1000] 1 tree, 25 leaves, max depth = 11, train loss: 0.31818, val loss: 0.35565, in 0.012s\n",
      "[26/1000] 1 tree, 26 leaves, max depth = 10, train loss: 0.31410, val loss: 0.35247, in 0.003s\n",
      "[27/1000] 1 tree, 25 leaves, max depth = 11, train loss: 0.31065, val loss: 0.35258, in 0.003s\n",
      "[28/1000] 1 tree, 25 leaves, max depth = 11, train loss: 0.30690, val loss: 0.34896, in 0.008s\n",
      "[29/1000] 1 tree, 26 leaves, max depth = 11, train loss: 0.30314, val loss: 0.34780, in 0.004s\n",
      "[30/1000] 1 tree, 24 leaves, max depth = 14, train loss: 0.29713, val loss: 0.34700, in 0.003s\n",
      "[31/1000] 1 tree, 24 leaves, max depth = 14, train loss: 0.29422, val loss: 0.34495, in 0.008s\n",
      "[32/1000] 1 tree, 23 leaves, max depth = 11, train loss: 0.28916, val loss: 0.34169, in 0.003s\n",
      "[33/1000] 1 tree, 24 leaves, max depth = 12, train loss: 0.28640, val loss: 0.33878, in 0.008s\n",
      "[34/1000] 1 tree, 23 leaves, max depth = 14, train loss: 0.28182, val loss: 0.33781, in 0.008s\n",
      "[35/1000] 1 tree, 24 leaves, max depth = 11, train loss: 0.27806, val loss: 0.33621, in 0.004s\n",
      "[36/1000] 1 tree, 23 leaves, max depth = 11, train loss: 0.27532, val loss: 0.33527, in 0.005s\n",
      "[37/1000] 1 tree, 22 leaves, max depth = 16, train loss: 0.27118, val loss: 0.33097, in 0.008s\n",
      "[38/1000] 1 tree, 23 leaves, max depth = 17, train loss: 0.26793, val loss: 0.32990, in 0.003s\n",
      "[39/1000] 1 tree, 23 leaves, max depth = 11, train loss: 0.26546, val loss: 0.33025, in 0.003s\n",
      "[40/1000] 1 tree, 24 leaves, max depth = 20, train loss: 0.26207, val loss: 0.32971, in 0.012s\n",
      "[41/1000] 1 tree, 25 leaves, max depth = 11, train loss: 0.25936, val loss: 0.33038, in 0.004s\n",
      "[42/1000] 1 tree, 23 leaves, max depth = 16, train loss: 0.25629, val loss: 0.32821, in 0.008s\n",
      "[43/1000] 1 tree, 26 leaves, max depth = 21, train loss: 0.25338, val loss: 0.32742, in 0.004s\n",
      "[44/1000] 1 tree, 24 leaves, max depth = 13, train loss: 0.25064, val loss: 0.32611, in 0.003s\n",
      "[45/1000] 1 tree, 25 leaves, max depth = 19, train loss: 0.24768, val loss: 0.32728, in 0.010s\n",
      "[46/1000] 1 tree, 24 leaves, max depth = 15, train loss: 0.24569, val loss: 0.32735, in 0.004s\n",
      "[47/1000] 1 tree, 25 leaves, max depth = 11, train loss: 0.24343, val loss: 0.32471, in 0.003s\n",
      "[48/1000] 1 tree, 26 leaves, max depth = 13, train loss: 0.24050, val loss: 0.32309, in 0.004s\n",
      "[49/1000] 1 tree, 25 leaves, max depth = 16, train loss: 0.23785, val loss: 0.32400, in 0.008s\n",
      "[50/1000] 1 tree, 24 leaves, max depth = 15, train loss: 0.23545, val loss: 0.32443, in 0.004s\n",
      "[51/1000] 1 tree, 24 leaves, max depth = 11, train loss: 0.23306, val loss: 0.32409, in 0.003s\n",
      "[52/1000] 1 tree, 25 leaves, max depth = 16, train loss: 0.23070, val loss: 0.32302, in 0.016s\n",
      "[53/1000] 1 tree, 25 leaves, max depth = 11, train loss: 0.22845, val loss: 0.32297, in 0.015s\n",
      "Fit 53 trees in 0.365 s, (1292 total leaves)\n",
      "Time spent computing histograms: 0.050s\n",
      "Time spent finding best splits:  0.021s\n",
      "Time spent applying splits:      0.050s\n",
      "Time spent predicting:           0.009s\n",
      "Binning 0.000 GB of training data: 0.003 s\n",
      "Binning 0.000 GB of validation data: 0.001 s\n",
      "Fitting gradient boosted rounds:\n",
      "[1/1000] 1 tree, 23 leaves, max depth = 7, train loss: 0.61583, val loss: 0.63222, in 0.004s\n",
      "[2/1000] 1 tree, 26 leaves, max depth = 7, train loss: 0.57578, val loss: 0.60585, in 0.003s\n",
      "[3/1000] 1 tree, 26 leaves, max depth = 9, train loss: 0.54338, val loss: 0.58430, in 0.007s\n",
      "[4/1000] 1 tree, 25 leaves, max depth = 7, train loss: 0.51630, val loss: 0.56602, in 0.004s\n",
      "[5/1000] 1 tree, 26 leaves, max depth = 9, train loss: 0.49315, val loss: 0.55174, in 0.003s\n",
      "[6/1000] 1 tree, 24 leaves, max depth = 9, train loss: 0.47218, val loss: 0.54198, in 0.008s\n",
      "[7/1000] 1 tree, 25 leaves, max depth = 9, train loss: 0.45475, val loss: 0.53584, in 0.003s\n",
      "[8/1000] 1 tree, 24 leaves, max depth = 9, train loss: 0.43875, val loss: 0.52911, in 0.003s\n",
      "[9/1000] 1 tree, 24 leaves, max depth = 9, train loss: 0.42503, val loss: 0.52516, in 0.003s\n",
      "[10/1000] 1 tree, 23 leaves, max depth = 9, train loss: 0.41237, val loss: 0.52294, in 0.009s\n",
      "[11/1000] 1 tree, 25 leaves, max depth = 8, train loss: 0.40070, val loss: 0.52004, in 0.002s\n",
      "[12/1000] 1 tree, 25 leaves, max depth = 10, train loss: 0.39135, val loss: 0.51914, in 0.004s\n",
      "[13/1000] 1 tree, 23 leaves, max depth = 8, train loss: 0.38243, val loss: 0.51760, in 0.009s\n",
      "[14/1000] 1 tree, 25 leaves, max depth = 9, train loss: 0.37403, val loss: 0.51620, in 0.003s\n",
      "[15/1000] 1 tree, 24 leaves, max depth = 9, train loss: 0.36569, val loss: 0.51734, in 0.003s\n",
      "[16/1000] 1 tree, 26 leaves, max depth = 9, train loss: 0.35950, val loss: 0.51788, in 0.008s\n",
      "[17/1000] 1 tree, 26 leaves, max depth = 9, train loss: 0.35202, val loss: 0.51651, in 0.004s\n",
      "[18/1000] 1 tree, 25 leaves, max depth = 10, train loss: 0.34610, val loss: 0.51652, in 0.003s\n",
      "[19/1000] 1 tree, 24 leaves, max depth = 10, train loss: 0.34059, val loss: 0.51756, in 0.009s\n",
      "Fit 19 trees in 0.113 s, (469 total leaves)\n",
      "Time spent computing histograms: 0.016s\n",
      "Time spent finding best splits:  0.007s\n",
      "Time spent applying splits:      0.018s\n",
      "Time spent predicting:           0.002s\n",
      "Mean cross-validation score: 0.83\n"
     ]
    }
   ],
   "source": [
    "from sklearn.experimental import enable_hist_gradient_boosting\n",
    "from sklearn.ensemble import HistGradientBoostingClassifier\n",
    "\n",
    "clf = HistGradientBoostingClassifier(max_iter=1000,  # Maximum number of iterations\n",
    "                                     early_stopping=True,  # Enable early stopping\n",
    "                                     validation_fraction=0.1,  # Fraction of training data to use as validation set\n",
    "                                     n_iter_no_change=5,  # Number of iterations with no improvement to wait before stopping\n",
    "                                     tol=1e-3,  # Tolerance for the early stopping\n",
    "                                     verbose=1)  # Verbosity level\n",
    "\n",
    "clf.fit(X_train, y_train)\n",
    "\n",
    "# score\n",
    "\n",
    "print(\"Validation accuracy: \", clf.score(X_test, y_test))\n",
    "\n"
   ]
  },
  {
   "cell_type": "code",
   "execution_count": 162,
   "metadata": {},
   "outputs": [
    {
     "name": "stdout",
     "output_type": "stream",
     "text": [
      "Validation accuracy:  0.8435754189944135\n",
      "Binning 0.000 GB of training data: 0.002 s\n",
      "Binning 0.000 GB of validation data: 0.000 s\n",
      "Fitting gradient boosted rounds:\n",
      "[1/1000] 1 tree, 24 leaves, max depth = 7, train loss: 0.61451, val loss: 0.62958, in 0.004s\n",
      "[2/1000] 1 tree, 24 leaves, max depth = 7, train loss: 0.57370, val loss: 0.60004, in 0.003s\n",
      "[3/1000] 1 tree, 24 leaves, max depth = 7, train loss: 0.54043, val loss: 0.57392, in 0.011s\n",
      "[4/1000] 1 tree, 25 leaves, max depth = 7, train loss: 0.51239, val loss: 0.55169, in 0.004s\n",
      "[5/1000] 1 tree, 25 leaves, max depth = 8, train loss: 0.48789, val loss: 0.53314, in 0.003s\n",
      "[6/1000] 1 tree, 25 leaves, max depth = 7, train loss: 0.46767, val loss: 0.52027, in 0.004s\n",
      "[7/1000] 1 tree, 23 leaves, max depth = 8, train loss: 0.44912, val loss: 0.50750, in 0.004s\n",
      "[8/1000] 1 tree, 25 leaves, max depth = 7, train loss: 0.43402, val loss: 0.49742, in 0.003s\n",
      "[9/1000] 1 tree, 25 leaves, max depth = 7, train loss: 0.42013, val loss: 0.48846, in 0.003s\n",
      "[10/1000] 1 tree, 25 leaves, max depth = 8, train loss: 0.40771, val loss: 0.48273, in 0.004s\n",
      "[11/1000] 1 tree, 24 leaves, max depth = 9, train loss: 0.39707, val loss: 0.47786, in 0.003s\n",
      "[12/1000] 1 tree, 24 leaves, max depth = 9, train loss: 0.38693, val loss: 0.47028, in 0.004s\n",
      "[13/1000] 1 tree, 25 leaves, max depth = 7, train loss: 0.37798, val loss: 0.46485, in 0.002s\n",
      "[14/1000] 1 tree, 25 leaves, max depth = 10, train loss: 0.36957, val loss: 0.45980, in 0.003s\n",
      "[15/1000] "
     ]
    },
    {
     "name": "stdout",
     "output_type": "stream",
     "text": [
      "1 tree, 25 leaves, max depth = 7, train loss: 0.36240, val loss: 0.45678, in 0.008s\n",
      "[16/1000] 1 tree, 24 leaves, max depth = 10, train loss: 0.35566, val loss: 0.45234, in 0.005s\n",
      "[17/1000] 1 tree, 25 leaves, max depth = 7, train loss: 0.34967, val loss: 0.44802, in 0.003s\n",
      "[18/1000] 1 tree, 26 leaves, max depth = 8, train loss: 0.34327, val loss: 0.44492, in 0.006s\n",
      "[19/1000] 1 tree, 25 leaves, max depth = 9, train loss: 0.33766, val loss: 0.44109, in 0.004s\n",
      "[20/1000] 1 tree, 25 leaves, max depth = 11, train loss: 0.33237, val loss: 0.43755, in 0.005s\n",
      "[21/1000] 1 tree, 25 leaves, max depth = 8, train loss: 0.32687, val loss: 0.43431, in 0.006s\n",
      "[22/1000] 1 tree, 26 leaves, max depth = 8, train loss: 0.32160, val loss: 0.43069, in 0.022s\n",
      "[23/1000] 1 tree, 25 leaves, max depth = 8, train loss: 0.31658, val loss: 0.42683, in 0.004s\n",
      "[24/1000] 1 tree, 27 leaves, max depth = 9, train loss: 0.31213, val loss: 0.42335, in 0.004s\n",
      "[25/1000] 1 tree, 25 leaves, max depth = 9, train loss: 0.30827, val loss: 0.42140, in 0.013s\n",
      "[26/1000] 1 tree, 26 leaves, max depth = 11, train loss: 0.30322, val loss: 0.42044, in 0.006s\n",
      "[27/1000] 1 tree, 26 leaves, max depth = 8, train loss: 0.29947, val loss: 0.42033, in 0.003s\n",
      "[28/1000] 1 tree, 25 leaves, max depth = 11, train loss: 0.29408, val loss: 0.41881, in 0.017s\n",
      "[29/1000] 1 tree, 23 leaves, max depth = 11, train loss: 0.28942, val loss: 0.41595, in 0.019s\n",
      "[30/1000] 1 tree, 25 leaves, max depth = 12, train loss: 0.28467, val loss: 0.41431, in 0.031s\n",
      "[31/1000] 1 tree, 24 leaves, max depth = 10, train loss: 0.28173, val loss: 0.41468, in 0.207s\n",
      "[32/1000] 1 tree, 23 leaves, max depth = 12, train loss: 0.27783, val loss: 0.41538, in 0.008s\n",
      "[33/1000] 1 tree, 22 leaves, max depth = 10, train loss: 0.27445, val loss: 0.41427, in 0.003s\n",
      "[34/1000] 1 tree, 26 leaves, max depth = 10, train loss: 0.27179, val loss: 0.41189, in 0.004s\n",
      "[35/1000] 1 tree, 24 leaves, max depth = 12, train loss: 0.26809, val loss: 0.41482, in 0.018s\n",
      "[36/1000] 1 tree, 25 leaves, max depth = 10, train loss: 0.26524, val loss: 0.41444, in 0.014s\n",
      "[37/1000] 1 tree, 23 leaves, max depth = 11, train loss: 0.26207, val loss: 0.41332, in 0.009s\n",
      "[38/1000] 1 tree, 25 leaves, max depth = 9, train loss: 0.25902, val loss: 0.41598, in 0.008s\n",
      "[39/1000] 1 tree, 24 leaves, max depth = 10, train loss: 0.25638, val loss: 0.41656, in 0.010s\n",
      "Fit 39 trees in 0.534 s, (962 total leaves)\n",
      "Time spent computing histograms: 0.106s\n",
      "Time spent finding best splits:  0.047s\n",
      "Time spent applying splits:      0.179s\n",
      "Time spent predicting:           0.010s\n",
      "Binning 0.000 GB of training data: 0.001 s\n",
      "Binning 0.000 GB of validation data: 0.000 s\n",
      "Fitting gradient boosted rounds:\n",
      "[1/1000] 1 tree, 26 leaves, max depth = 7, train loss: 0.61462, val loss: 0.62013, in 0.003s\n",
      "[2/1000] 1 tree, 25 leaves, max depth = 7, train loss: 0.57345, val loss: 0.57909, in 0.011s\n",
      "[3/1000] 1 tree, 25 leaves, max depth = 7, train loss: 0.53932, val loss: 0.54747, in 0.005s\n",
      "[4/1000] 1 tree, 25 leaves, max depth = 8, train loss: 0.51030, val loss: 0.51935, in 0.005s\n",
      "[5/1000] 1 tree, 25 leaves, max depth = 7, train loss: 0.48575, val loss: 0.49729, in 0.007s\n",
      "[6/1000] 1 tree, 26 leaves, max depth = 9, train loss: 0.46453, val loss: 0.47721, in 0.004s\n",
      "[7/1000] 1 tree, 26 leaves, max depth = 7, train loss: 0.44530, val loss: 0.45951, in 0.015s\n",
      "[8/1000] 1 tree, 25 leaves, max depth = 9, train loss: 0.42878, val loss: 0.44434, in 0.009s\n",
      "[9/1000] 1 tree, 26 leaves, max depth = 7, train loss: 0.41397, val loss: 0.43080, in 0.002s\n",
      "[10/1000] 1 tree, 24 leaves, max depth = 9, train loss: 0.40071, val loss: 0.41863, in 0.002s\n",
      "[11/1000] 1 tree, 27 leaves, max depth = 9, train loss: 0.38895, val loss: 0.40916, in 0.008s\n",
      "[12/1000] 1 tree, 25 leaves, max depth = 7, train loss: 0.37891, val loss: 0.39957, in 0.002s\n",
      "[13/1000] 1 tree, 24 leaves, max depth = 8, train loss: 0.36993, val loss: 0.39244, in 0.003s\n",
      "[14/1000] 1 tree, 25 leaves, max depth = 9, train loss: 0.36134, val loss: 0.38601, in 0.006s\n",
      "[15/1000] 1 tree, 23 leaves, max depth = 9, train loss: 0.35381, val loss: 0.37897, in 0.006s\n",
      "[16/1000] 1 tree, 25 leaves, max depth = 9, train loss: 0.34704, val loss: 0.37427, in 0.004s\n",
      "[17/1000] 1 tree, 24 leaves, max depth = 7, train loss: 0.33971, val loss: 0.36766, in 0.003s\n",
      "[18/1000] 1 tree, 24 leaves, max depth = 8, train loss: 0.33290, val loss: 0.36545, in 0.006s\n",
      "[19/1000] 1 tree, 25 leaves, max depth = 12, train loss: 0.32685, val loss: 0.36369, in 0.005s\n",
      "[20/1000] 1 tree, 25 leaves, max depth = 11, train loss: 0.32050, val loss: 0.35627, in 0.002s\n",
      "[21/1000] 1 tree, 23 leaves, max depth = 11, train loss: 0.31563, val loss: 0.35463, in 0.005s\n",
      "[22/1000] 1 tree, 26 leaves, max depth = 13, train loss: 0.31086, val loss: 0.35283, in 0.006s\n",
      "[23/1000] 1 tree, 26 leaves, max depth = 10, train loss: 0.30610, val loss: 0.35110, in 0.003s\n",
      "[24/1000] 1 tree, 24 leaves, max depth = 12, train loss: 0.30055, val loss: 0.34965, in 0.002s\n",
      "[25/1000] 1 tree, 25 leaves, max depth = 10, train loss: 0.29623, val loss: 0.34807, in 0.010s\n",
      "[26/1000] 1 tree, 26 leaves, max depth = 10, train loss: 0.29223, val loss: 0.34753, in 0.003s\n",
      "[27/1000] 1 tree, 25 leaves, max depth = 9, train loss: 0.28698, val loss: 0.34634, in 0.004s\n",
      "[28/1000] 1 tree, 25 leaves, max depth = 13, train loss: 0.28323, val loss: 0.34748, in 0.005s\n",
      "[29/1000] 1 tree, 24 leaves, max depth = 12, train loss: 0.27974, val loss: 0.34646, in 0.009s\n",
      "[30/1000] 1 tree, 25 leaves, max depth = 13, train loss: 0.27442, val loss: 0.34815, in 0.003s\n",
      "[31/1000] 1 tree, 25 leaves, max depth = 14, train loss: 0.27141, val loss: 0.34570, in 0.006s\n",
      "[32/1000] 1 tree, 25 leaves, max depth = 13, train loss: 0.26606, val loss: 0.34852, in 0.009s\n",
      "Fit 32 trees in 0.197 s, (799 total leaves)\n",
      "Time spent computing histograms: 0.026s\n",
      "Time spent finding best splits:  0.013s\n",
      "Time spent applying splits:      0.034s\n",
      "Time spent predicting:           0.003s\n",
      "Binning 0.000 GB of training data: 0.002 s\n",
      "Binning 0.000 GB of validation data: 0.000 s\n",
      "Fitting gradient boosted rounds:\n",
      "[1/1000] 1 tree, 24 leaves, max depth = 7, train loss: 0.61955, val loss: 0.62150, in 0.002s\n",
      "[2/1000] 1 tree, 26 leaves, max depth = 6, train loss: 0.58259, val loss: 0.58357, in 0.003s\n",
      "[3/1000] 1 tree, 24 leaves, max depth = 7, train loss: 0.55197, val loss: 0.55096, in 0.003s\n",
      "[4/1000] 1 tree, 26 leaves, max depth = 6, train loss: 0.52658, val loss: 0.52580, in 0.006s\n",
      "[5/1000] 1 tree, 25 leaves, max depth = 6, train loss: 0.50542, val loss: 0.50495, in 0.004s\n",
      "[6/1000] 1 tree, 25 leaves, max depth = 9, train loss: 0.48683, val loss: 0.48466, in 0.003s\n",
      "[7/1000] 1 tree, 25 leaves, max depth = 9, train loss: 0.46989, val loss: 0.46890, in 0.006s\n",
      "[8/1000] 1 tree, 26 leaves, max depth = 9, train loss: 0.45603, val loss: 0.45214, in 0.004s\n",
      "[9/1000] 1 tree, 25 leaves, max depth = 9, train loss: 0.44313, val loss: 0.44318, in 0.002s\n",
      "[10/1000] 1 tree, 24 leaves, max depth = 6, train loss: 0.43236, val loss: 0.43168, in 0.003s\n",
      "[11/1000] 1 tree, 24 leaves, max depth = 9, train loss: 0.42310, val loss: 0.42243, in 0.007s\n",
      "[12/1000] 1 tree, 25 leaves, max depth = 8, train loss: 0.41381, val loss: 0.41384, in 0.004s\n",
      "[13/1000] 1 tree, 25 leaves, max depth = 7, train loss: 0.40633, val loss: 0.40841, in 0.003s\n",
      "[14/1000] 1 tree, 25 leaves, max depth = 10, train loss: 0.39762, val loss: 0.40014, in 0.006s\n",
      "[15/1000] 1 tree, 26 leaves, max depth = 9, train loss: 0.39107, val loss: 0.39331, in 0.006s\n",
      "[16/1000] 1 tree, 25 leaves, max depth = 8, train loss: 0.38446, val loss: 0.38950, in 0.003s\n",
      "[17/1000] 1 tree, 24 leaves, max depth = 8, train loss: 0.37821, val loss: 0.38513, in 0.003s\n",
      "[18/1000] 1 tree, 27 leaves, max depth = 10, train loss: 0.37227, val loss: 0.38177, in 0.006s\n",
      "[19/1000] 1 tree, 25 leaves, max depth = 10, train loss: 0.36726, val loss: 0.37831, in 0.002s\n",
      "[20/1000] 1 tree, 23 leaves, max depth = 8, train loss: 0.36184, val loss: 0.37860, in 0.003s\n",
      "[21/1000] 1 tree, 24 leaves, max depth = 10, train loss: 0.35676, val loss: 0.37669, in 0.002s\n",
      "[22/1000] 1 tree, 26 leaves, max depth = 11, train loss: 0.35181, val loss: 0.37550, in 0.007s\n",
      "[23/1000] 1 tree, 23 leaves, max depth = 11, train loss: 0.34735, val loss: 0.37486, in 0.004s\n",
      "[24/1000] 1 tree, 27 leaves, max depth = 11, train loss: 0.34360, val loss: 0.37277, in 0.003s\n",
      "[25/1000] 1 tree, 26 leaves, max depth = 13, train loss: 0.33838, val loss: 0.37445, in 0.005s\n",
      "[26/1000] 1 tree, 22 leaves, max depth = 8, train loss: 0.33349, val loss: 0.37438, in 0.003s\n",
      "[27/1000] 1 tree, 24 leaves, max depth = 12, train loss: 0.32973, val loss: 0.37476, in 0.007s\n",
      "[28/1000] 1 tree, 23 leaves, max depth = 11, train loss: 0.32584, val loss: 0.37630, in 0.016s\n",
      "[29/1000] 1 tree, 25 leaves, max depth = 13, train loss: 0.32141, val loss: 0.37791, in 0.003s\n",
      "Fit 29 trees in 0.156 s, (719 total leaves)\n",
      "Time spent computing histograms: 0.018s\n",
      "Time spent finding best splits:  0.014s\n",
      "Time spent applying splits:      0.020s\n",
      "Time spent predicting:           0.001s\n",
      "Binning 0.000 GB of training data: 0.001 s\n",
      "Binning 0.000 GB of validation data: 0.001 s\n",
      "Fitting gradient boosted rounds:\n",
      "[1/1000] 1 tree, 24 leaves, max depth = 9, train loss: 0.61866, val loss: 0.62374, in 0.003s\n",
      "[2/1000] 1 tree, 26 leaves, max depth = 7, train loss: 0.57915, val loss: 0.59035, in 0.008s\n",
      "[3/1000] 1 tree, 25 leaves, max depth = 7, train loss: 0.54698, val loss: 0.56377, in 0.006s\n",
      "[4/1000] 1 tree, 25 leaves, max depth = 8, train loss: 0.52039, val loss: 0.54345, in 0.007s\n",
      "[5/1000] 1 tree, 25 leaves, max depth = 7, train loss: 0.49803, val loss: 0.52579, in 0.002s\n",
      "[6/1000] 1 tree, 24 leaves, max depth = 7, train loss: 0.47705, val loss: 0.50887, in 0.004s\n",
      "[7/1000] 1 tree, 24 leaves, max depth = 7, train loss: 0.45919, val loss: 0.49584, in 0.008s\n",
      "[8/1000] 1 tree, 25 leaves, max depth = 8, train loss: 0.44269, val loss: 0.48603, in 0.003s\n",
      "[9/1000] 1 tree, 25 leaves, max depth = 7, train loss: 0.42906, val loss: 0.47725, in 0.003s\n",
      "[10/1000] 1 tree, 23 leaves, max depth = 7, train loss: 0.41654, val loss: 0.47032, in 0.007s\n",
      "[11/1000] 1 tree, 23 leaves, max depth = 7, train loss: 0.40583, val loss: 0.46519, in 0.002s\n",
      "[12/1000] 1 tree, 23 leaves, max depth = 7, train loss: 0.39646, val loss: 0.45918, in 0.003s\n",
      "[13/1000] 1 tree, 24 leaves, max depth = 8, train loss: 0.38793, val loss: 0.45305, in 0.006s\n",
      "[14/1000] 1 tree, 25 leaves, max depth = 8, train loss: 0.38067, val loss: 0.44851, in 0.005s\n",
      "[15/1000] 1 tree, 26 leaves, max depth = 8, train loss: 0.37273, val loss: 0.44660, in 0.003s\n",
      "[16/1000] 1 tree, 25 leaves, max depth = 8, train loss: 0.36667, val loss: 0.44447, in 0.003s\n",
      "[17/1000] 1 tree, 24 leaves, max depth = 9, train loss: 0.36042, val loss: 0.43919, in 0.006s\n",
      "[18/1000] 1 tree, 26 leaves, max depth = 10, train loss: 0.35410, val loss: 0.43158, in 0.005s\n",
      "[19/1000] 1 tree, 26 leaves, max depth = 10, train loss: 0.34737, val loss: 0.42371, in 0.010s\n",
      "[20/1000] 1 tree, 26 leaves, max depth = 10, train loss: 0.34214, val loss: 0.41882, in 0.005s\n",
      "[21/1000] 1 tree, 26 leaves, max depth = 11, train loss: 0.33564, val loss: 0.41384, in 0.003s\n",
      "[22/1000] 1 tree, 26 leaves, max depth = 11, train loss: 0.32974, val loss: 0.41520, in 0.002s\n",
      "[23/1000] 1 tree, 25 leaves, max depth = 12, train loss: 0.32350, val loss: 0.41795, in 0.002s\n",
      "[24/1000] 1 tree, 26 leaves, max depth = 11, train loss: 0.31863, val loss: 0.41400, in 0.008s\n",
      "[25/1000] 1 tree, 23 leaves, max depth = 11, train loss: 0.31403, val loss: 0.41264, in 0.006s\n",
      "[26/1000] 1 tree, 26 leaves, max depth = 12, train loss: 0.30932, val loss: 0.41689, in 0.004s\n",
      "[27/1000] 1 tree, 24 leaves, max depth = 11, train loss: 0.30448, val loss: 0.41150, in 0.007s\n",
      "[28/1000] 1 tree, 25 leaves, max depth = 11, train loss: 0.30062, val loss: 0.41162, in 0.005s\n",
      "[29/1000] 1 tree, 25 leaves, max depth = 13, train loss: 0.29532, val loss: 0.41617, in 0.003s\n",
      "[30/1000] 1 tree, 24 leaves, max depth = 14, train loss: 0.28966, val loss: 0.41949, in 0.005s\n",
      "[31/1000] 1 tree, 24 leaves, max depth = 12, train loss: 0.28594, val loss: 0.42347, in 0.007s\n",
      "[32/1000] 1 tree, 24 leaves, max depth = 12, train loss: 0.28280, val loss: 0.42540, in 0.003s\n",
      "Fit 32 trees in 0.173 s, (792 total leaves)\n",
      "Time spent computing histograms: 0.022s\n",
      "Time spent finding best splits:  0.017s\n",
      "Time spent applying splits:      0.021s\n",
      "Time spent predicting:           0.003s\n",
      "Binning 0.000 GB of training data: 0.001 s\n",
      "Binning 0.000 GB of validation data: 0.001 s\n",
      "Fitting gradient boosted rounds:\n",
      "[1/1000] 1 tree, 24 leaves, max depth = 8, train loss: 0.61908, val loss: 0.61718, in 0.002s\n",
      "[2/1000] 1 tree, 26 leaves, max depth = 7, train loss: 0.58199, val loss: 0.57805, in 0.003s\n",
      "[3/1000] 1 tree, 25 leaves, max depth = 7, train loss: 0.55088, val loss: 0.54408, in 0.006s\n",
      "[4/1000] 1 tree, 26 leaves, max depth = 7, train loss: 0.52544, val loss: 0.51590, in 0.003s\n",
      "[5/1000] 1 tree, 26 leaves, max depth = 7, train loss: 0.50425, val loss: 0.48860, in 0.002s\n",
      "[6/1000] 1 tree, 26 leaves, max depth = 8, train loss: 0.48521, val loss: 0.46928, in 0.008s\n",
      "[7/1000] 1 tree, 25 leaves, max depth = 7, train loss: 0.46943, val loss: 0.45147, in 0.009s\n",
      "[8/1000] 1 tree, 24 leaves, max depth = 11, train loss: 0.45365, val loss: 0.43576, in 0.007s\n",
      "[9/1000] 1 tree, 26 leaves, max depth = 8, train loss: 0.44037, val loss: 0.42524, in 0.009s\n",
      "[10/1000] 1 tree, 25 leaves, max depth = 11, train loss: 0.42907, val loss: 0.41196, in 0.014s\n",
      "[11/1000] 1 tree, 24 leaves, max depth = 7, train loss: 0.41869, val loss: 0.40396, in 0.004s\n",
      "[12/1000] 1 tree, 24 leaves, max depth = 10, train loss: 0.40881, val loss: 0.39483, in 0.008s\n",
      "[13/1000] 1 tree, 26 leaves, max depth = 8, train loss: 0.39921, val loss: 0.38875, in 0.016s\n",
      "[14/1000] 1 tree, 26 leaves, max depth = 10, train loss: 0.39078, val loss: 0.38216, in 0.007s\n",
      "[15/1000] 1 tree, 24 leaves, max depth = 9, train loss: 0.38397, val loss: 0.37554, in 0.010s\n",
      "[16/1000] 1 tree, 26 leaves, max depth = 10, train loss: 0.37709, val loss: 0.37261, in 0.006s\n",
      "[17/1000] 1 tree, 24 leaves, max depth = 12, train loss: 0.37154, val loss: 0.36722, in 0.010s\n",
      "[18/1000] 1 tree, 24 leaves, max depth = 10, train loss: 0.36596, val loss: 0.36215, in 0.005s\n",
      "[19/1000] 1 tree, 25 leaves, max depth = 10, train loss: 0.36103, val loss: 0.35890, in 0.009s\n",
      "[20/1000] 1 tree, 25 leaves, max depth = 9, train loss: 0.35652, val loss: 0.35480, in 0.028s\n",
      "[21/1000] 1 tree, 26 leaves, max depth = 9, train loss: 0.35186, val loss: 0.35192, in 0.007s\n",
      "[22/1000] 1 tree, 25 leaves, max depth = 12, train loss: 0.34663, val loss: 0.35015, in 0.003s\n",
      "[23/1000] 1 tree, 24 leaves, max depth = 11, train loss: 0.34224, val loss: 0.34698, in 0.003s\n",
      "[24/1000] 1 tree, 25 leaves, max depth = 11, train loss: 0.33845, val loss: 0.34312, in 0.007s\n",
      "[25/1000] 1 tree, 24 leaves, max depth = 12, train loss: 0.33416, val loss: 0.33940, in 0.003s\n",
      "[26/1000] 1 tree, 26 leaves, max depth = 9, train loss: 0.32894, val loss: 0.33658, in 0.002s\n",
      "[27/1000] 1 tree, 26 leaves, max depth = 12, train loss: 0.32477, val loss: 0.33500, in 0.005s\n",
      "[28/1000] 1 tree, 22 leaves, max depth = 10, train loss: 0.31874, val loss: 0.33198, in 0.004s\n",
      "[29/1000] 1 tree, 24 leaves, max depth = 10, train loss: 0.31335, val loss: 0.32931, in 0.003s\n",
      "[30/1000] 1 tree, 22 leaves, max depth = 13, train loss: 0.30978, val loss: 0.32670, in 0.003s\n",
      "[31/1000] 1 tree, 24 leaves, max depth = 11, train loss: 0.30528, val loss: 0.32514, in 0.003s\n",
      "[32/1000] 1 tree, 25 leaves, max depth = 12, train loss: 0.29998, val loss: 0.32498, in 0.005s\n",
      "[33/1000] 1 tree, 27 leaves, max depth = 17, train loss: 0.29370, val loss: 0.32797, in 0.004s\n",
      "[34/1000] 1 tree, 26 leaves, max depth = 12, train loss: 0.29066, val loss: 0.32943, in 0.003s\n",
      "[35/1000] 1 tree, 24 leaves, max depth = 10, train loss: 0.28669, val loss: 0.32734, in 0.002s\n",
      "[36/1000] 1 tree, 25 leaves, max depth = 15, train loss: 0.28281, val loss: 0.32199, in 0.009s\n",
      "[37/1000] 1 tree, 24 leaves, max depth = 12, train loss: 0.27851, val loss: 0.32308, in 0.004s\n",
      "[38/1000] 1 tree, 26 leaves, max depth = 12, train loss: 0.27496, val loss: 0.31920, in 0.008s\n",
      "[39/1000] 1 tree, 24 leaves, max depth = 12, train loss: 0.27064, val loss: 0.32288, in 0.006s\n",
      "[40/1000] 1 tree, 23 leaves, max depth = 13, train loss: 0.26757, val loss: 0.32316, in 0.004s\n",
      "[41/1000] 1 tree, 26 leaves, max depth = 11, train loss: 0.26408, val loss: 0.32726, in 0.003s\n",
      "[42/1000] 1 tree, 24 leaves, max depth = 13, train loss: 0.26071, val loss: 0.32707, in 0.004s\n",
      "[43/1000] 1 tree, 24 leaves, max depth = 12, train loss: 0.25844, val loss: 0.32587, in 0.007s\n",
      "Fit 43 trees in 0.292 s, (1067 total leaves)\n",
      "Time spent computing histograms: 0.059s\n",
      "Time spent finding best splits:  0.022s\n",
      "Time spent applying splits:      0.049s\n",
      "Time spent predicting:           0.002s\n",
      "Mean cross-validation score: 0.83\n"
     ]
    }
   ],
   "source": [
    "print(\"Validation accuracy: \", clf.score(X_test, y_test))\n",
    "\n",
    "# cross validation\n",
    "\n",
    "scores = cross_val_score(clf, train, y, cv=5)\n",
    "print(\"Mean cross-validation score: %.2f\" % scores.mean())\n"
   ]
  },
  {
   "cell_type": "code",
   "execution_count": 164,
   "metadata": {},
   "outputs": [
    {
     "data": {
      "text/html": [
       "<div>\n",
       "<style scoped>\n",
       "    .dataframe tbody tr th:only-of-type {\n",
       "        vertical-align: middle;\n",
       "    }\n",
       "\n",
       "    .dataframe tbody tr th {\n",
       "        vertical-align: top;\n",
       "    }\n",
       "\n",
       "    .dataframe thead th {\n",
       "        text-align: right;\n",
       "    }\n",
       "</style>\n",
       "<table border=\"1\" class=\"dataframe\">\n",
       "  <thead>\n",
       "    <tr style=\"text-align: right;\">\n",
       "      <th></th>\n",
       "      <th>PassengerId</th>\n",
       "      <th>Pclass</th>\n",
       "      <th>Sex</th>\n",
       "      <th>Age</th>\n",
       "      <th>SibSp</th>\n",
       "      <th>Parch</th>\n",
       "      <th>Fare</th>\n",
       "      <th>Embarked</th>\n",
       "      <th>Title</th>\n",
       "    </tr>\n",
       "  </thead>\n",
       "  <tbody>\n",
       "    <tr>\n",
       "      <th>0</th>\n",
       "      <td>892</td>\n",
       "      <td>3</td>\n",
       "      <td>0</td>\n",
       "      <td>34.5</td>\n",
       "      <td>0</td>\n",
       "      <td>0</td>\n",
       "      <td>7.8292</td>\n",
       "      <td>1</td>\n",
       "      <td>0</td>\n",
       "    </tr>\n",
       "    <tr>\n",
       "      <th>1</th>\n",
       "      <td>893</td>\n",
       "      <td>3</td>\n",
       "      <td>1</td>\n",
       "      <td>47.0</td>\n",
       "      <td>1</td>\n",
       "      <td>0</td>\n",
       "      <td>7.0000</td>\n",
       "      <td>2</td>\n",
       "      <td>2</td>\n",
       "    </tr>\n",
       "    <tr>\n",
       "      <th>2</th>\n",
       "      <td>894</td>\n",
       "      <td>2</td>\n",
       "      <td>0</td>\n",
       "      <td>62.0</td>\n",
       "      <td>0</td>\n",
       "      <td>0</td>\n",
       "      <td>9.6875</td>\n",
       "      <td>1</td>\n",
       "      <td>0</td>\n",
       "    </tr>\n",
       "    <tr>\n",
       "      <th>3</th>\n",
       "      <td>895</td>\n",
       "      <td>3</td>\n",
       "      <td>0</td>\n",
       "      <td>27.0</td>\n",
       "      <td>0</td>\n",
       "      <td>0</td>\n",
       "      <td>8.6625</td>\n",
       "      <td>2</td>\n",
       "      <td>0</td>\n",
       "    </tr>\n",
       "    <tr>\n",
       "      <th>4</th>\n",
       "      <td>896</td>\n",
       "      <td>3</td>\n",
       "      <td>1</td>\n",
       "      <td>22.0</td>\n",
       "      <td>1</td>\n",
       "      <td>1</td>\n",
       "      <td>12.2875</td>\n",
       "      <td>2</td>\n",
       "      <td>2</td>\n",
       "    </tr>\n",
       "  </tbody>\n",
       "</table>\n",
       "</div>"
      ],
      "text/plain": [
       "   PassengerId  Pclass  Sex   Age  SibSp  Parch     Fare  Embarked  Title\n",
       "0          892       3    0  34.5      0      0   7.8292         1      0\n",
       "1          893       3    1  47.0      1      0   7.0000         2      2\n",
       "2          894       2    0  62.0      0      0   9.6875         1      0\n",
       "3          895       3    0  27.0      0      0   8.6625         2      0\n",
       "4          896       3    1  22.0      1      1  12.2875         2      2"
      ]
     },
     "execution_count": 164,
     "metadata": {},
     "output_type": "execute_result"
    }
   ],
   "source": [
    "test = test.drop"
   ]
  },
  {
   "cell_type": "code",
   "execution_count": 165,
   "metadata": {},
   "outputs": [
    {
     "name": "stdout",
     "output_type": "stream",
     "text": [
      "(418, 8)\n",
      "(418,)\n",
      "(418, 2)\n"
     ]
    }
   ],
   "source": [
    "# predict \n",
    "\n",
    "predictions = clf.predict(testf)\n",
    "print(testf.shape)\n",
    "print(predictions.shape)\n",
    "\n",
    "final_preds = np.column_stack((np.array(test['PassengerId']), np.array(predictions)))\n",
    "print(final_preds.shape)\n",
    "\n",
    "# final preds to csv\n",
    "\n",
    "np.savetxt('final_GBT.csv', final_preds, delimiter=',', fmt='%s', header='PassengerId,Survived', comments='') # got 0.79425"
   ]
  }
 ],
 "metadata": {
  "kernelspec": {
   "display_name": "ppvenv",
   "language": "python",
   "name": "python3"
  },
  "language_info": {
   "codemirror_mode": {
    "name": "ipython",
    "version": 3
   },
   "file_extension": ".py",
   "mimetype": "text/x-python",
   "name": "python",
   "nbconvert_exporter": "python",
   "pygments_lexer": "ipython3",
   "version": "3.11.2"
  }
 },
 "nbformat": 4,
 "nbformat_minor": 2
}
